{
 "cells": [
  {
   "cell_type": "markdown",
   "metadata": {
    "id": "qYyPcd9LTgrn",
    "jp-MarkdownHeadingCollapsed": true
   },
   "source": [
    "# Setup\n"
   ]
  },
  {
   "cell_type": "code",
   "execution_count": 1,
   "metadata": {
    "colab": {
     "base_uri": "https://localhost:8080/"
    },
    "id": "ZYtZjU0NSPnn",
    "outputId": "7e20a971-dc76-4ea2-934d-0f26da0a11fb"
   },
   "outputs": [],
   "source": [
    "# from google.colab import drive\n",
    "# drive.mount('/content/drive')"
   ]
  },
  {
   "cell_type": "code",
   "execution_count": 2,
   "metadata": {
    "id": "adHsAHM25nUH"
   },
   "outputs": [],
   "source": [
    "# import os\n",
    "# os.chdir('/content/drive/MyDrive/Projects/Distillation')"
   ]
  },
  {
   "cell_type": "code",
   "execution_count": 3,
   "metadata": {
    "id": "vK6w4whUST4C"
   },
   "outputs": [],
   "source": [
    "# !pip install datasets --quiet\n",
    "# !pip install evaluate --quiet"
   ]
  },
  {
   "cell_type": "code",
   "execution_count": 4,
   "metadata": {
    "colab": {
     "base_uri": "https://localhost:8080/"
    },
    "id": "lVbqbSinPAFL",
    "outputId": "ba411837-b5d0-4761-c5d5-11f78fa5bf9c"
   },
   "outputs": [
    {
     "name": "stdout",
     "output_type": "stream",
     "text": [
      "cuda\n"
     ]
    }
   ],
   "source": [
    "import torch\n",
    "\n",
    "DEVICE = torch.device('cuda' if torch.cuda.is_available() else 'cpu')\n",
    "print(DEVICE)"
   ]
  },
  {
   "cell_type": "code",
   "execution_count": 5,
   "metadata": {
    "id": "k0nkgDqc_Gec"
   },
   "outputs": [],
   "source": [
    "import random\n",
    "import numpy as np\n",
    "\n",
    "# Ensure experiment reproducibility\n",
    "SEED = 1234\n",
    "torch.manual_seed(SEED)\n",
    "torch.backends.cudnn.deterministic = True\n",
    "random.seed(SEED)\n",
    "np.random.seed(SEED)"
   ]
  },
  {
   "cell_type": "markdown",
   "metadata": {
    "id": "qBqMpR7VJg8g",
    "jp-MarkdownHeadingCollapsed": true
   },
   "source": [
    "# Dataset"
   ]
  },
  {
   "cell_type": "markdown",
   "metadata": {
    "id": "wHLaVK4eQYIx"
   },
   "source": [
    "\n",
    "\n",
    "[HateXplain](https://huggingface.co/datasets/Hate-speech-CNERG/hatexplain) is a benchmark dataset for hate speech detection.   \n",
    "Each record in the dataset includes four fields:\n",
    "- id: A unique identifier for the post.\n",
    "- annotators: A list of annotations made by 3 different annotators. Each annotator entry includes:  \n",
    "  - label: The label given to the post. 0: hatespeech, 1: normal, 2: offensive.\n",
    "  - annotator_id: A unique identifier for the annotator.\n",
    "  - target: The target of the post.\n",
    "- rationales: A list of binary arrays. 1 indicates a token that can justify the label assigned by the annotator.\n",
    "\n",
    "- post_tokens: A list of tokens (words) of the post."
   ]
  },
  {
   "cell_type": "code",
   "execution_count": 6,
   "metadata": {
    "colab": {
     "base_uri": "https://localhost:8080/"
    },
    "id": "tj5inwykSApG",
    "outputId": "85a44eb2-0258-42b3-d515-3a84c34c2b46"
   },
   "outputs": [],
   "source": [
    "from datasets import load_dataset\n",
    "\n",
    "dataset = load_dataset(\"Hate-speech-CNERG/hatexplain\", trust_remote_code=True)"
   ]
  },
  {
   "cell_type": "code",
   "execution_count": 7,
   "metadata": {
    "colab": {
     "base_uri": "https://localhost:8080/"
    },
    "id": "I8RTITPFTpmL",
    "outputId": "2926d2c6-6e5e-48ee-b3fa-7c9447c8e543"
   },
   "outputs": [
    {
     "name": "stdout",
     "output_type": "stream",
     "text": [
      "DatasetDict({\n",
      "    train: Dataset({\n",
      "        features: ['id', 'annotators', 'rationales', 'post_tokens'],\n",
      "        num_rows: 15383\n",
      "    })\n",
      "    validation: Dataset({\n",
      "        features: ['id', 'annotators', 'rationales', 'post_tokens'],\n",
      "        num_rows: 1922\n",
      "    })\n",
      "    test: Dataset({\n",
      "        features: ['id', 'annotators', 'rationales', 'post_tokens'],\n",
      "        num_rows: 1924\n",
      "    })\n",
      "})\n"
     ]
    }
   ],
   "source": [
    "print(dataset)"
   ]
  },
  {
   "cell_type": "code",
   "execution_count": 8,
   "metadata": {
    "colab": {
     "base_uri": "https://localhost:8080/"
    },
    "id": "SyUS4Nk3TsXO",
    "outputId": "1118f0a5-1bab-47f4-ffba-1500144bdddf"
   },
   "outputs": [
    {
     "name": "stdout",
     "output_type": "stream",
     "text": [
      "{'id': '23107796_gab', 'annotators': {'label': [0, 2, 2], 'annotator_id': [203, 204, 233], 'target': [['Hindu', 'Islam'], ['Hindu', 'Islam'], ['Hindu', 'Islam', 'Other']]}, 'rationales': [[0, 0, 0, 0, 0, 0, 0, 0, 1, 0, 0, 0, 0, 0, 0, 0, 0, 0, 0, 0, 0, 1, 1, 1, 1, 0, 0, 0, 0, 0, 0, 0, 0], [0, 0, 0, 0, 0, 0, 0, 0, 1, 0, 1, 1, 0, 1, 0, 0, 0, 0, 0, 0, 0, 1, 1, 0, 0, 0, 0, 0, 0, 0, 0, 0, 0]], 'post_tokens': ['u', 'really', 'think', 'i', 'would', 'not', 'have', 'been', 'raped', 'by', 'feral', 'hindu', 'or', 'muslim', 'back', 'in', 'india', 'or', 'bangladesh', 'and', 'a', 'neo', 'nazi', 'would', 'rape', 'me', 'as', 'well', 'just', 'to', 'see', 'me', 'cry']}\n"
     ]
    }
   ],
   "source": [
    "# Example\n",
    "print(dataset['train'][0])"
   ]
  },
  {
   "cell_type": "markdown",
   "metadata": {
    "jp-MarkdownHeadingCollapsed": true
   },
   "source": [
    "# Tokenizer and Teacher Model (BERT)"
   ]
  },
  {
   "cell_type": "code",
   "execution_count": 9,
   "metadata": {},
   "outputs": [
    {
     "name": "stderr",
     "output_type": "stream",
     "text": [
      "Some weights of BertForSequenceClassification were not initialized from the model checkpoint at bert-base-uncased and are newly initialized: ['classifier.bias', 'classifier.weight']\n",
      "You should probably TRAIN this model on a down-stream task to be able to use it for predictions and inference.\n"
     ]
    }
   ],
   "source": [
    "from transformers import AutoTokenizer\n",
    "from transformers import AutoModelForSequenceClassification\n",
    "\n",
    "# tokenizer\n",
    "MODEL_NAME = \"bert-base-uncased\"\n",
    "tokenizer = AutoTokenizer.from_pretrained(MODEL_NAME)\n",
    "\n",
    "# teacher model\n",
    "ID2LABEL = {0: \"hate_speech\", 1: \"normal\", 2: \"offensive\"}\n",
    "LABEL2ID = {label: idx for idx, label in ID2LABEL.items()}\n",
    "NUM_LABELS = len(ID2LABEL)\n",
    "\n",
    "teacher_model = AutoModelForSequenceClassification.from_pretrained(\n",
    "    MODEL_NAME,\n",
    "    num_labels = NUM_LABELS,\n",
    "    id2label = ID2LABEL,\n",
    "    label2id = LABEL2ID,\n",
    ")"
   ]
  },
  {
   "cell_type": "markdown",
   "metadata": {
    "id": "5ZQ0pniIrOxV",
    "jp-MarkdownHeadingCollapsed": true
   },
   "source": [
    "# Preprocessing\n",
    "\n"
   ]
  },
  {
   "cell_type": "markdown",
   "metadata": {
    "id": "vjcRFH-ef0KG"
   },
   "source": [
    "- Use the tokenizer from the pretrained BERT model (bert-base-uncased) to tokenize input text.\n",
    "\n",
    "- Use majority vote to select the most common label as the final label.\n",
    "\n",
    "- Create PyTorch DataLoaders."
   ]
  },
  {
   "cell_type": "code",
   "execution_count": 10,
   "metadata": {
    "id": "CanlWeoF8co5"
   },
   "outputs": [],
   "source": [
    "# from collections import Counter\n",
    "# from transformers import DataCollatorWithPadding\n",
    "# from torch.utils.data import DataLoader\n",
    "\n",
    "# \"\"\"\n",
    "# Use DataCollatorWithPadding. Dynamic padding, save memory\n",
    "# \"\"\"\n",
    "\n",
    "\n",
    "# def preprocess_function(example):\n",
    "#     \"\"\"\n",
    "#     Preprocesses a dataset example by tokenizing text and applying majority vote on annotator labels.\n",
    "#     \"\"\"\n",
    "#     texts = \" \".join(example[\"post_tokens\"])\n",
    "#     output = tokenizer(texts, max_length=128, truncation=True)  # padding is False\n",
    "\n",
    "#     labels = example[\"annotators\"][\"label\"]\n",
    "#     output[\"label\"] = Counter(labels).most_common(1)[0][0]\n",
    "\n",
    "#     return output\n",
    "\n",
    "\n",
    "# def create_dataloaders(dataset, batch_size):\n",
    "#     data_collator = DataCollatorWithPadding(tokenizer=tokenizer)\n",
    "\n",
    "#     train_dataset = dataset[\"train\"].shuffle(seed=42)\n",
    "#     eval_dataset = dataset[\"validation\"].shuffle(seed=42)\n",
    "#     test_dataset = dataset[\"test\"].shuffle(seed=42)\n",
    "\n",
    "#     train_loader = DataLoader(\n",
    "#         train_dataset,\n",
    "#         batch_size=batch_size,\n",
    "#         shuffle=True,\n",
    "#         collate_fn=data_collator\n",
    "#     )\n",
    "\n",
    "#     eval_loader = DataLoader(\n",
    "#         eval_dataset,\n",
    "#         batch_size=batch_size,\n",
    "#         collate_fn=data_collator\n",
    "#     )\n",
    "\n",
    "#     test_loader = DataLoader(\n",
    "#         test_dataset,\n",
    "#         batch_size=batch_size,\n",
    "#         collate_fn=data_collator\n",
    "#     )\n",
    "#     return train_loader, eval_loader, test_loader\n",
    "\n",
    "\n",
    "# dataset_preprocessed = dataset.map(preprocess_function)  # batched is False\n",
    "# dataset_preprocessed = dataset_preprocessed.remove_columns([\"id\", \"annotators\", \"rationales\", \"post_tokens\"])"
   ]
  },
  {
   "cell_type": "code",
   "execution_count": 11,
   "metadata": {
    "scrolled": true
   },
   "outputs": [],
   "source": [
    "from collections import Counter\n",
    "from transformers import DataCollatorWithPadding\n",
    "from torch.utils.data import DataLoader\n",
    "\n",
    "\"\"\"\n",
    "Use DataCollatorWithPadding. Dynamic padding, save memory\n",
    "\"\"\"\n",
    "\n",
    "\n",
    "def preprocess_function(examples):\n",
    "    \"\"\"\n",
    "    Preprocesses a batch of examples. Tokenize text. Apply majority vote on annotator labels.\n",
    "    \"\"\"\n",
    "    texts = [\" \".join(tokens) for tokens in examples[\"post_tokens\"]]\n",
    "    output = tokenizer(texts, max_length=128, truncation=True)  # padding is False\n",
    "    \n",
    "    output[\"label\"] = [Counter(annotator[\"label\"]).most_common(1)[0][0] for annotator in examples[\"annotators\"]]\n",
    "    return output\n",
    "\n",
    "\n",
    "def create_dataloaders(dataset, batch_size):\n",
    "    data_collator = DataCollatorWithPadding(tokenizer=tokenizer)\n",
    "\n",
    "    train_dataset = dataset[\"train\"].shuffle(seed=42)\n",
    "    eval_dataset = dataset[\"validation\"].shuffle(seed=42)\n",
    "    test_dataset = dataset[\"test\"].shuffle(seed=42)\n",
    "\n",
    "    train_loader = DataLoader(\n",
    "        train_dataset,\n",
    "        batch_size=batch_size,\n",
    "        shuffle=True,\n",
    "        collate_fn=data_collator\n",
    "    )\n",
    "\n",
    "    eval_loader = DataLoader(\n",
    "        eval_dataset,\n",
    "        batch_size=batch_size,\n",
    "        collate_fn=data_collator\n",
    "    )\n",
    "\n",
    "    test_loader = DataLoader(\n",
    "        test_dataset,\n",
    "        batch_size=batch_size,\n",
    "        collate_fn=data_collator\n",
    "    )\n",
    "    return train_loader, eval_loader, test_loader\n",
    "\n",
    "\n",
    "dataset_preprocessed = dataset.map(preprocess_function, batched=True)\n",
    "dataset_preprocessed = dataset_preprocessed.remove_columns([\"id\", \"annotators\", \"rationales\", \"post_tokens\"])"
   ]
  },
  {
   "cell_type": "code",
   "execution_count": 12,
   "metadata": {
    "colab": {
     "base_uri": "https://localhost:8080/"
    },
    "id": "z_eY-JDdMzcU",
    "outputId": "52a97f9a-33c5-472a-fada-1252c14b30ef"
   },
   "outputs": [
    {
     "name": "stdout",
     "output_type": "stream",
     "text": [
      "DatasetDict({\n",
      "    train: Dataset({\n",
      "        features: ['input_ids', 'token_type_ids', 'attention_mask', 'label'],\n",
      "        num_rows: 15383\n",
      "    })\n",
      "    validation: Dataset({\n",
      "        features: ['input_ids', 'token_type_ids', 'attention_mask', 'label'],\n",
      "        num_rows: 1922\n",
      "    })\n",
      "    test: Dataset({\n",
      "        features: ['input_ids', 'token_type_ids', 'attention_mask', 'label'],\n",
      "        num_rows: 1924\n",
      "    })\n",
      "})\n",
      "-- Example --\n",
      "{'input_ids': [101, 1057, 2428, 2228, 1045, 2052, 2025, 2031, 2042, 15504, 2011, 18993, 7560, 2030, 5152, 2067, 1999, 2634, 2030, 7269, 1998, 1037, 9253, 6394, 2052, 9040, 2033, 2004, 2092, 2074, 2000, 2156, 2033, 5390, 102], 'token_type_ids': [0, 0, 0, 0, 0, 0, 0, 0, 0, 0, 0, 0, 0, 0, 0, 0, 0, 0, 0, 0, 0, 0, 0, 0, 0, 0, 0, 0, 0, 0, 0, 0, 0, 0, 0], 'attention_mask': [1, 1, 1, 1, 1, 1, 1, 1, 1, 1, 1, 1, 1, 1, 1, 1, 1, 1, 1, 1, 1, 1, 1, 1, 1, 1, 1, 1, 1, 1, 1, 1, 1, 1, 1], 'label': 2}\n"
     ]
    }
   ],
   "source": [
    "# Example dataset_preprocessed\n",
    "print(dataset_preprocessed)\n",
    "print(\"-- Example --\")\n",
    "print(dataset_preprocessed['train'][0])"
   ]
  },
  {
   "cell_type": "code",
   "execution_count": 13,
   "metadata": {
    "id": "srzy1BOZ6nMV"
   },
   "outputs": [],
   "source": [
    "# # Example train_loader\n",
    "# train_loader, eval_loader, test_loader = create_dataloaders(dataset_preprocessed, batch_size=32)\n",
    "\n",
    "# for batch in train_loader:\n",
    "#     for k, v in batch.items():\n",
    "#         print(f\"{k}: {v.shape}\")   \n",
    "#     break"
   ]
  },
  {
   "cell_type": "markdown",
   "metadata": {
    "id": "xEPXGEmoqokS",
    "jp-MarkdownHeadingCollapsed": true
   },
   "source": [
    "# Model\n",
    "\n"
   ]
  },
  {
   "cell_type": "markdown",
   "metadata": {
    "id": "9uOg8SlLf4pa"
   },
   "source": [
    "\n",
    "> The student has the same general architecture as BERT.\n",
    "- The token-type embeddings and the pooler are removed while the number of layers is reduced by a factor of 2.\n",
    "- Most of the operations used in the Transformer architecture—linear layer and layer normalisation—are highly optimized in modern linear algebra frameworks.\n",
    "- Our investigations showed that variations on the last dimension of the tensor (hidden size dimension) have a smaller impact on computation efficiency (for a fixed parameters budget) than variations on other factors like the number of layers.\n",
    "- Thus we focus on reducing the number of layers.\n",
    ">\n",
    "> — Sanh, Victor, et al. *DistilBERT, a distilled version of BERT: smaller, faster, cheaper and lighter.* arXiv:1910.01108 (2019)"
   ]
  },
  {
   "cell_type": "markdown",
   "metadata": {
    "id": "8GQZ0zV5B7r1"
   },
   "source": [
    "## Teacher Model (BERT)"
   ]
  },
  {
   "cell_type": "code",
   "execution_count": 14,
   "metadata": {
    "id": "h26-h3BVoij-"
   },
   "outputs": [],
   "source": [
    "# from transformers import AutoModelForSequenceClassification\n",
    "# help(AutoModelForSequenceClassification.from_pretrained)\n",
    "\n",
    "# from transformers import PretrainedConfig\n",
    "# help(PretrainedConfig)"
   ]
  },
  {
   "cell_type": "code",
   "execution_count": 15,
   "metadata": {},
   "outputs": [
    {
     "data": {
      "text/plain": [
       "BertForSequenceClassification(\n",
       "  (bert): BertModel(\n",
       "    (embeddings): BertEmbeddings(\n",
       "      (word_embeddings): Embedding(30522, 768, padding_idx=0)\n",
       "      (position_embeddings): Embedding(512, 768)\n",
       "      (token_type_embeddings): Embedding(2, 768)\n",
       "      (LayerNorm): LayerNorm((768,), eps=1e-12, elementwise_affine=True)\n",
       "      (dropout): Dropout(p=0.1, inplace=False)\n",
       "    )\n",
       "    (encoder): BertEncoder(\n",
       "      (layer): ModuleList(\n",
       "        (0-11): 12 x BertLayer(\n",
       "          (attention): BertAttention(\n",
       "            (self): BertSdpaSelfAttention(\n",
       "              (query): Linear(in_features=768, out_features=768, bias=True)\n",
       "              (key): Linear(in_features=768, out_features=768, bias=True)\n",
       "              (value): Linear(in_features=768, out_features=768, bias=True)\n",
       "              (dropout): Dropout(p=0.1, inplace=False)\n",
       "            )\n",
       "            (output): BertSelfOutput(\n",
       "              (dense): Linear(in_features=768, out_features=768, bias=True)\n",
       "              (LayerNorm): LayerNorm((768,), eps=1e-12, elementwise_affine=True)\n",
       "              (dropout): Dropout(p=0.1, inplace=False)\n",
       "            )\n",
       "          )\n",
       "          (intermediate): BertIntermediate(\n",
       "            (dense): Linear(in_features=768, out_features=3072, bias=True)\n",
       "            (intermediate_act_fn): GELUActivation()\n",
       "          )\n",
       "          (output): BertOutput(\n",
       "            (dense): Linear(in_features=3072, out_features=768, bias=True)\n",
       "            (LayerNorm): LayerNorm((768,), eps=1e-12, elementwise_affine=True)\n",
       "            (dropout): Dropout(p=0.1, inplace=False)\n",
       "          )\n",
       "        )\n",
       "      )\n",
       "    )\n",
       "    (pooler): BertPooler(\n",
       "      (dense): Linear(in_features=768, out_features=768, bias=True)\n",
       "      (activation): Tanh()\n",
       "    )\n",
       "  )\n",
       "  (dropout): Dropout(p=0.1, inplace=False)\n",
       "  (classifier): Linear(in_features=768, out_features=3, bias=True)\n",
       ")"
      ]
     },
     "execution_count": 15,
     "metadata": {},
     "output_type": "execute_result"
    }
   ],
   "source": [
    "teacher_model"
   ]
  },
  {
   "cell_type": "code",
   "execution_count": 16,
   "metadata": {
    "colab": {
     "base_uri": "https://localhost:8080/"
    },
    "id": "3ALRYJnPORrw",
    "outputId": "9b114ec8-0ad6-46eb-a0df-45c18605fd92"
   },
   "outputs": [
    {
     "data": {
      "text/plain": [
       "BertConfig {\n",
       "  \"_attn_implementation_autoset\": true,\n",
       "  \"architectures\": [\n",
       "    \"BertForMaskedLM\"\n",
       "  ],\n",
       "  \"attention_probs_dropout_prob\": 0.1,\n",
       "  \"classifier_dropout\": null,\n",
       "  \"gradient_checkpointing\": false,\n",
       "  \"hidden_act\": \"gelu\",\n",
       "  \"hidden_dropout_prob\": 0.1,\n",
       "  \"hidden_size\": 768,\n",
       "  \"id2label\": {\n",
       "    \"0\": \"hate_speech\",\n",
       "    \"1\": \"normal\",\n",
       "    \"2\": \"offensive\"\n",
       "  },\n",
       "  \"initializer_range\": 0.02,\n",
       "  \"intermediate_size\": 3072,\n",
       "  \"label2id\": {\n",
       "    \"hate_speech\": 0,\n",
       "    \"normal\": 1,\n",
       "    \"offensive\": 2\n",
       "  },\n",
       "  \"layer_norm_eps\": 1e-12,\n",
       "  \"max_position_embeddings\": 512,\n",
       "  \"model_type\": \"bert\",\n",
       "  \"num_attention_heads\": 12,\n",
       "  \"num_hidden_layers\": 12,\n",
       "  \"pad_token_id\": 0,\n",
       "  \"position_embedding_type\": \"absolute\",\n",
       "  \"torch_dtype\": \"float32\",\n",
       "  \"transformers_version\": \"4.51.2\",\n",
       "  \"type_vocab_size\": 2,\n",
       "  \"use_cache\": true,\n",
       "  \"vocab_size\": 30522\n",
       "}"
      ]
     },
     "execution_count": 16,
     "metadata": {},
     "output_type": "execute_result"
    }
   ],
   "source": [
    "teacher_model.config"
   ]
  },
  {
   "cell_type": "markdown",
   "metadata": {
    "id": "Q0OSTDbHOZo_"
   },
   "source": [
    "## Student Model (DistilBERT)\n",
    "\n",
    "- The student model has the same configuration as the teacher model, but with half the number of layers.\n",
    "- Initialize the layers of student model. Copy one out of two encoder layers, and all other layers from the teacher model.\n",
    "\n",
    "\n",
    "\n"
   ]
  },
  {
   "cell_type": "code",
   "execution_count": 17,
   "metadata": {
    "id": "Slyr60okCKq-"
   },
   "outputs": [],
   "source": [
    "from transformers.models.bert.modeling_bert import BertConfig\n",
    "\n",
    "\n",
    "def build_student_model(teacher_model):\n",
    "    student_config = teacher_model.config.to_dict()\n",
    "    student_config['num_hidden_layers'] //= 2  # half the number of hidden layer\n",
    "    student_config = BertConfig.from_dict(student_config)\n",
    "    model = type(teacher_model)(student_config)\n",
    "    return model\n",
    "\n",
    "\n",
    "def init_student_layers(teacher, student, use_layer = \"odd\"):\n",
    "    \"\"\"\n",
    "    Initialize the layers of student model.\n",
    "    Copy one out of two encoder layers, and all other layers from the teacher model.\n",
    "\n",
    "    Params:\n",
    "        teacher: The teacher model.\n",
    "        student: The student model.\n",
    "        use_layer: Whether to use odd {1, 3, 5, 7, 9, 11} or even {2, 4, 6, 8, 10, 12} layers from the teacher model.\n",
    "    \"\"\"\n",
    "\n",
    "    # Copy one out of two encoder layers\n",
    "    teacher_encoder_layers = teacher.bert.encoder.layer\n",
    "    student_encoder_layers = student.bert.encoder.layer\n",
    "    # print(len(teacher_encoder_layers), len(student_encoder_layers))  # 12, 6\n",
    "    layer_indices = range(1, 12, 2) if use_layer == \"odd\" else range(0, 12, 2)  #  select odd or even layers\n",
    "    for i, layer_idx in enumerate(layer_indices):\n",
    "        student_encoder_layers[i].load_state_dict(teacher_encoder_layers[layer_idx].state_dict())\n",
    "\n",
    "    # Copy all other layers\n",
    "    student.bert.embeddings.load_state_dict(teacher.bert.embeddings.state_dict())\n",
    "    student.bert.pooler.load_state_dict(teacher.bert.pooler.state_dict())\n",
    "    student.classifier.load_state_dict(teacher.classifier.state_dict())\n",
    "\n",
    "    return student\n",
    "\n",
    "\n",
    "def count_parameters(model):\n",
    "    return sum(param.numel() for param in model.parameters() if param.requires_grad)\n",
    "\n",
    "\n",
    "# student_model = build_student_model(teacher_model)\n",
    "# print(student_model)\n",
    "# student_model = init_student_layers(teacher_model, student_model, use_layer=\"odd\")\n",
    "# print()\n",
    "# print('Teacher parameters :', count_parameters(teacher_model))\n",
    "# print('Student parameters :', count_parameters(student_model))\n",
    "# print('Compression ratio:', count_parameters(student_model) / count_parameters(teacher_model))"
   ]
  },
  {
   "cell_type": "markdown",
   "metadata": {
    "id": "m3Q4oScygXSL",
    "jp-MarkdownHeadingCollapsed": true
   },
   "source": [
    "# Loss Function"
   ]
  },
  {
   "cell_type": "markdown",
   "metadata": {
    "id": "smpHkpaqSYZu"
   },
   "source": [
    "## Weighted Loss\n",
    "Let $\\alpha$, $\\beta$ be weighting factors, $0 < \\alpha, \\beta < 1$ and $\\alpha + \\beta < 1$,\n",
    "$$\\mathcal{L} = \\alpha \\mathcal{L}_\\text{cls} + \\beta \\mathcal{L}_\\text{KD} + (1- \\alpha - \\beta)\\mathcal{L}_{\\text{cos}}$$\n",
    "\n",
    "## Softmax\n",
    "The softmax function converts a vector of raw scores (logits) $\\pmb{z} = [z^{(1)}, z^{(2)}, \\cdots, z^{(k)}]$ into a probability distribution over $k$ classes. The temperature parameter $T > 0$ controls the smoothness of the resulting probability distribution.\n",
    "$$\n",
    "\\text{softmax}(\\pmb{z}^{(j)}, T) = \\frac{ \\exp ( \\pmb{z}^{(j)}  / T) }{\\sum_{q=1}^{k} \\exp ( \\pmb{z}^{(q)} / T )}\n",
    "$$\n",
    "$T=1$, standard softmax;  \n",
    "$T < 1$, sharper distribution, more confident predictions (the largest logits dominate);  \n",
    "$T > 1$, smoother distribution, more uncertainty (probabilities are more uniform).\n",
    "\n",
    "## Cross-Entropy Loss\n",
    "Let $\\pmb{p}$ be the target probability distribution and $\\pmb{q}$ be the input probability distribution, both over $k$ classes. The Cross-Entropy measures the difference between these two distributions as:\n",
    "$$\n",
    "H(\\pmb{p},\\pmb{q})= - \\sum_{j=1}^{k} \\pmb{p}^{(j)} \\log \\pmb{q}^{(j)}\n",
    "$$\n",
    "\n",
    "## KL Divergence\n",
    "$$D_{\\mathrm{KL}}(\\pmb{p} \\,\\|\\, \\pmb{q}) = \\sum_{j=1}^{k} \\pmb{p}^{(j)} \\log \\frac{\\pmb{p}^{(j)}}{\\pmb{q}^{(j)}} = \\sum_{j=1}^{k} \\pmb{p}^{(j)} (\\log \\pmb{p}^{(j)} - \\log \\pmb{q}^{(j)})$$\n",
    "\n",
    "$$\n",
    "H(\\pmb{p}, \\pmb{q}) = H(\\pmb{p}) + D_{\\mathrm{KL}}(\\pmb{p} \\,\\|\\, \\pmb{q})\n",
    "$$\n",
    "Since $H(\\pmb{p})$ is fixed, minimizing cross-entropy is equivalent to minimizing the KL divergence between $\\pmb{p}$ and $\\pmb{q}$.\n",
    "\n",
    "## Classification Loss\n",
    "$$\\mathcal{L}_\\text{cls} = H( \\pmb{y}_\\text{true}, \\pmb{y}_\\text{pred\\_student} )$$\n",
    "\n",
    "## Knowledge Distillation Loss\n",
    "Both cross-entropy and KL divergence can be used for knowledge distillation loss, as they result in the same gradients and optimization updates.\n",
    "\n",
    "KL divergence is often preferred, since it equals to zero when the student's output distribution exactly matches the teacher's. While cross-entropy includes an constant offset — the entropy $H(\\pmb{p})$ of the teacher's output distribution. This constant does not affect the optimization process, but it introduces noise into the loss value across batches, making training curves less interpretable.\n",
    "\n",
    "The multiplication by $T^2$ corrects for the gradient scaling effect introduced by the temperature during backpropagation.\n",
    "\n",
    "$$\\mathcal{L}_\\text{KD} = H(\\text{softmax}(\\pmb{z}_{\\text{teacher}}, T), \\text{softmax}(\\pmb{z}_{\\text{student}}, T)) \\cdot T^2 $$\n",
    "\n",
    "$$\\mathcal{L}_\\text{KD} = D_{\\mathrm{KL}}(\\text{softmax}(\\pmb{z}_{\\text{teacher}}, T) \\,\\|\\, \\text{softmax}(\\pmb{z}_{\\text{student}}, T)) \\cdot T^2 $$\n",
    "\n",
    "In PyTorch, `F.cross_entropy(input, target)` expects logits as `input`, and class indices or class probabilities as `target`.   \n",
    "`F.kl_div(input, target)` expects log-probabilities as `input`, and probabilities as `target`.\n",
    "\n",
    "## Cosine Embedding Loss\n",
    "$$\\mathcal{L}_\\text{cos} = 1 - \\text{cosine\\_similarity}(\\pmb{z}_\\text{student}, \\pmb{z}_\\text{teacher})$$"
   ]
  },
  {
   "cell_type": "code",
   "execution_count": 18,
   "metadata": {
    "id": "yH_NxZ8inOGy"
   },
   "outputs": [],
   "source": [
    "import torch.nn as nn\n",
    "import torch.nn.functional as F\n",
    "\n",
    "class KDLoss(nn.Module):\n",
    "    \"\"\"\n",
    "    Compute the knowledge distillation loss\n",
    "    \"\"\"\n",
    "\n",
    "    def __init__(self):\n",
    "        super().__init__()\n",
    "\n",
    "    def forward(self, logits_student, logits_teacher, T):\n",
    "        \"\"\"\n",
    "        Params:\n",
    "            logits_student: The logits of the student model.\n",
    "            logits_teacher: The logits of the teacher model.\n",
    "            T: The temperature parameter.\n",
    "        \"\"\"\n",
    "        loss = nn.KLDivLoss(reduction='batchmean')(\n",
    "            F.log_softmax(logits_student/T, dim=-1),\n",
    "            F.softmax(logits_teacher/T, dim=-1)\n",
    "        ) * T * T\n",
    "\n",
    "        return loss\n",
    "\n",
    "\n",
    "# # Loss functions\n",
    "# criterion_cls = nn.CrossEntropyLoss()  # Classification Loss\n",
    "# criterion_kd = KDLoss()  # Knowledge Distillation Loss\n",
    "# criterion_cos = nn.CosineEmbeddingLoss()  # Cosine Embedding Loss"
   ]
  },
  {
   "cell_type": "markdown",
   "metadata": {
    "id": "LJBIKCVWAVbP"
   },
   "source": [
    "# Trainer"
   ]
  },
  {
   "cell_type": "code",
   "execution_count": 19,
   "metadata": {
    "id": "kXhTxirJ1ZA0"
   },
   "outputs": [],
   "source": [
    "import evaluate\n",
    "\n",
    "accuracy_metric = evaluate.load(\"accuracy\")\n",
    "f1_metric = evaluate.load(\"f1\")\n",
    "\n",
    "def compute_metrics(preds, labels):\n",
    "    accuracy = accuracy_metric.compute(predictions=preds, references=labels)[\"accuracy\"]    \n",
    "    f1 = f1_metric.compute(predictions=preds, references=labels, average=\"macro\")[\"f1\"]\n",
    "    return accuracy, f1"
   ]
  },
  {
   "cell_type": "code",
   "execution_count": 20,
   "metadata": {
    "id": "2F-B5UuzEdda"
   },
   "outputs": [],
   "source": [
    "from tqdm.auto import tqdm\n",
    "from torch.utils.tensorboard import SummaryWriter\n",
    "import os\n",
    "from torch.optim.lr_scheduler import ReduceLROnPlateau\n",
    "\n",
    "\n",
    "class KDTrainer:\n",
    "    def __init__(self, teacher_model, student_model, train_loader, eval_loader, optimizer, scheduler=None, save_name=\"exp1\"):\n",
    "        self.teacher_model = teacher_model\n",
    "        self.student_model = student_model\n",
    "        self.train_loader = train_loader\n",
    "        self.eval_loader = eval_loader\n",
    "        self.optimizer = optimizer\n",
    "        self.scheduler = scheduler\n",
    "\n",
    "        self.criterion_cls = None\n",
    "        self.criterion_kd = None\n",
    "        self.criterion_cos = None\n",
    "        self._init_criterions()\n",
    "\n",
    "        self.save_name = save_name\n",
    "        self.writer = SummaryWriter(log_dir=f\"logs/{save_name}\")  # Tensorboard writer\n",
    "\n",
    "    def _init_criterions(self):\n",
    "        self.criterion_cls = nn.CrossEntropyLoss()\n",
    "        self.criterion_kd = KDLoss()\n",
    "        self.criterion_cos = nn.CosineEmbeddingLoss()\n",
    "\n",
    "    def train(self, num_epochs, T=1, alpha=0.5, beta=0.3):\n",
    "        train_histories, eval_histories = [], []\n",
    "\n",
    "        for epoch in range(num_epochs):\n",
    "            print(f\"\\n-- Epoch {epoch + 1}/{num_epochs} --\")\n",
    "\n",
    "            train_history = self.train_one_epoch(T, alpha, beta)\n",
    "            eval_history = self.evaluate()\n",
    "\n",
    "            if self.scheduler is not None and isinstance(self.scheduler, ReduceLROnPlateau):\n",
    "                self.scheduler.step(eval_history[\"eval_f1\"])\n",
    "\n",
    "            train_histories.append(train_history)\n",
    "            eval_histories.append(eval_history)\n",
    "\n",
    "            # print results\n",
    "            print(f\"Train\\tLoss: {train_history['train_loss']:.4f}\")\n",
    "            print(f\"\\tcls: {train_history['train_loss_cls']:.4f}\")\n",
    "            print(f\"\\tkd: {train_history['train_loss_kd']:.4f}\")\n",
    "            print(f\"\\tcos: {train_history['train_loss_cos']:.4f}\")\n",
    "            print(f\"Eval\\tLoss: {eval_history['eval_loss']:.4f}\")\n",
    "            print(f\"\\tAccuracy: {eval_history['eval_accuracy']:.4f}\")\n",
    "            print(f\"\\tF1: {eval_history['eval_f1']:.4f}\")\n",
    "\n",
    "            # Log to TensorBoard\n",
    "            self.writer.add_scalar(\"Loss/train\", train_history['train_loss'], epoch)\n",
    "            self.writer.add_scalar(\"Loss/train_cls\", train_history['train_loss_cls'], epoch)\n",
    "            self.writer.add_scalar(\"Loss/train_kd\", train_history['train_loss_kd'], epoch)\n",
    "            self.writer.add_scalar(\"Loss/train_cos\", train_history['train_loss_cos'], epoch)\n",
    "            self.writer.add_scalar(\"Loss/eval\", eval_history['eval_loss'], epoch)\n",
    "            self.writer.add_scalar(\"Metrics/accuracy\", eval_history['eval_accuracy'], epoch)\n",
    "            self.writer.add_scalar(\"Metrics/f1\", eval_history['eval_f1'], epoch)\n",
    "\n",
    "        self.writer.close()  # close Tensorboard writer\n",
    "        \n",
    "        return train_histories, eval_histories\n",
    "\n",
    "    def train_one_epoch(self, T, alpha, beta):\n",
    "        self.teacher_model.eval()\n",
    "        self.student_model.train()\n",
    "\n",
    "        total = 0\n",
    "        total_loss, total_loss_cls, total_loss_kd, total_loss_cos = 0, 0, 0, 0\n",
    "\n",
    "        for batch in tqdm(self.train_loader, desc=\"Training\", leave=False):\n",
    "            # move batch data to device\n",
    "            batch = {k: v.to(DEVICE) for k, v in batch.items()}\n",
    "\n",
    "            # clear grad\n",
    "            self.optimizer.zero_grad()\n",
    "\n",
    "            # forward\n",
    "            outputs_student = self.student_model(**batch)\n",
    "            with torch.no_grad():\n",
    "                outputs_teacher = self.teacher_model(**batch)\n",
    "\n",
    "            # compute loss\n",
    "            loss_cls = self.criterion_cls(outputs_student.logits, batch[\"labels\"])\n",
    "            loss_kd = self.criterion_kd(outputs_student.logits, outputs_teacher.logits, T)\n",
    "            loss_cos = self.criterion_cos(\n",
    "                outputs_teacher.logits,\n",
    "                outputs_student.logits,\n",
    "                torch.ones(outputs_teacher.logits.size(0)).to(DEVICE)\n",
    "            )\n",
    "            loss = alpha * loss_cls + beta * loss_kd + (1.0 - alpha - beta) * loss_cos\n",
    "\n",
    "            # backward\n",
    "            loss.backward()\n",
    "            self.optimizer.step()\n",
    "            if self.scheduler is not None and not isinstance(self.scheduler, ReduceLROnPlateau):\n",
    "                self.scheduler.step()\n",
    "\n",
    "            # total loss\n",
    "            batch_size = batch[\"labels\"].size(0)\n",
    "            total += batch_size\n",
    "            total_loss += loss.item() * batch_size\n",
    "            total_loss_cls += loss_cls.item() * batch_size\n",
    "            total_loss_kd += loss_kd.item() * batch_size\n",
    "            total_loss_cos += loss_cos.item() * batch_size\n",
    "\n",
    "        # average loss\n",
    "        history = {\n",
    "            \"train_loss\": total_loss / total,\n",
    "            \"train_loss_cls\": total_loss_cls / total,\n",
    "            \"train_loss_kd\": total_loss_kd / total,\n",
    "            \"train_loss_cos\": total_loss_cos / total,\n",
    "        }\n",
    "\n",
    "        return history\n",
    "\n",
    "    def evaluate(self):\n",
    "        self.student_model.eval()\n",
    "\n",
    "        total = 0\n",
    "        total_loss = 0\n",
    "        all_preds, all_labels = [], []\n",
    "        with torch.no_grad():\n",
    "            for batch in tqdm(self.eval_loader, desc=\"Evaluating\", leave=False):\n",
    "                # move batch data to device\n",
    "                batch = {k: v.to(DEVICE) for k, v in batch.items()}\n",
    "\n",
    "                # forward\n",
    "                outputs = self.student_model(**batch)\n",
    "\n",
    "                # loss\n",
    "                loss = self.criterion_cls(outputs.logits, batch[\"labels\"])\n",
    "\n",
    "                # total loss\n",
    "                batch_size = batch[\"labels\"].size(0)\n",
    "                total += batch_size\n",
    "                total_loss += loss.item() * batch_size\n",
    "\n",
    "                preds = outputs.logits.argmax(dim=-1)\n",
    "                all_preds.extend(preds.cpu().numpy())\n",
    "                all_labels.extend(batch[\"labels\"].cpu().numpy())\n",
    "\n",
    "        # average loss\n",
    "        eval_loss = total_loss / total\n",
    "\n",
    "        accuracy, f1 = compute_metrics(all_preds, all_labels)\n",
    "\n",
    "        history = {\n",
    "            \"eval_loss\": eval_loss,\n",
    "            \"eval_accuracy\": accuracy,\n",
    "            \"eval_f1\": f1\n",
    "        }\n",
    "\n",
    "        return history\n",
    "\n",
    "    def save_model(self):\n",
    "        save_path = f\"models/{self.save_name}.pt\"\n",
    "        os.makedirs(os.path.dirname(save_path), exist_ok=True)\n",
    "        torch.save(self.student_model.state_dict(), save_path)\n",
    "        print(f\"Student model saved to: {save_path}\")\n"
   ]
  },
  {
   "cell_type": "markdown",
   "metadata": {
    "id": "M0Z9xVoU09Rq"
   },
   "source": [
    "# Train"
   ]
  },
  {
   "cell_type": "code",
   "execution_count": 21,
   "metadata": {
    "colab": {
     "base_uri": "https://localhost:8080/",
     "height": 347,
     "referenced_widgets": [
      "8a85991934fc4e3daf64a1fd63274863",
      "eb1018d808b24f49a2f30caa847f5cba",
      "3fd8127f712b475c9a351e21c9e2ab4f",
      "145cfbf57a2f4fbca4b2a3e6dae1fd33",
      "7063860e7c684b27bb55c46ff1a56054",
      "72930a5ca24f443ba41f1df0135e0452",
      "9fea38a3101f41b28063500cee8b18f8",
      "9a36f9142b4f4a6cb6f42d569ef64b13",
      "3d1ad685658f49108eb108c12b16fb3f",
      "07b21e4340ec48c18b2d81eb5f495361",
      "00060cf7dea24f56b875bfea028ba90f",
      "c7e28425d0514a37b272e0a32285217f",
      "d9ad57fa7b294301ae35dac1821ea6b8",
      "8a490deaaaba4eada516ffd5ba1e6f92",
      "9af83f0a48344c84bfa756287c1135a4",
      "147523338f4c40499bfb56ccd31e63f5",
      "be0c5dcfed7d4baf8013bb55b26f486d",
      "9d0a76945caf48968d28c1219d32d6e7",
      "8840f3af4c2e40b29f8d7d89aa15cffc",
      "26e62d11a7bb420c86ca31482bbcf3ca",
      "fb1205383e0c4d4881faef0431777266",
      "40a5ac0a4ac6418b8c0e5bd40fcee5db"
     ]
    },
    "id": "PnIpLmhC-YAG",
    "outputId": "6431f2f2-b0c8-4996-9234-6c15b6a981b0"
   },
   "outputs": [
    {
     "name": "stdout",
     "output_type": "stream",
     "text": [
      "Teacher parameters: 109484547\n",
      "Student parameters: 66957315\n",
      "Compression ratio: 0.6116\n",
      "\n",
      "-- Epoch 1/3 --\n"
     ]
    },
    {
     "data": {
      "application/vnd.jupyter.widget-view+json": {
       "model_id": "",
       "version_major": 2,
       "version_minor": 0
      },
      "text/plain": [
       "Training:   0%|          | 0/481 [00:00<?, ?it/s]"
      ]
     },
     "metadata": {},
     "output_type": "display_data"
    },
    {
     "data": {
      "application/vnd.jupyter.widget-view+json": {
       "model_id": "",
       "version_major": 2,
       "version_minor": 0
      },
      "text/plain": [
       "Evaluating:   0%|          | 0/61 [00:00<?, ?it/s]"
      ]
     },
     "metadata": {},
     "output_type": "display_data"
    },
    {
     "name": "stdout",
     "output_type": "stream",
     "text": [
      "Train\tLoss: 0.6359\n",
      "\tcls: 0.8352\n",
      "\tkd: 0.1776\n",
      "\tcos: 0.1578\n",
      "Eval\tLoss: 0.7695\n",
      "\tAccuracy: 0.6727\n",
      "\tF1: 0.6693\n",
      "\n",
      "-- Epoch 2/3 --\n"
     ]
    },
    {
     "data": {
      "application/vnd.jupyter.widget-view+json": {
       "model_id": "",
       "version_major": 2,
       "version_minor": 0
      },
      "text/plain": [
       "Training:   0%|          | 0/481 [00:00<?, ?it/s]"
      ]
     },
     "metadata": {},
     "output_type": "display_data"
    },
    {
     "data": {
      "application/vnd.jupyter.widget-view+json": {
       "model_id": "",
       "version_major": 2,
       "version_minor": 0
      },
      "text/plain": [
       "Evaluating:   0%|          | 0/61 [00:00<?, ?it/s]"
      ]
     },
     "metadata": {},
     "output_type": "display_data"
    },
    {
     "name": "stdout",
     "output_type": "stream",
     "text": [
      "Train\tLoss: 0.5534\n",
      "\tcls: 0.6896\n",
      "\tkd: 0.2816\n",
      "\tcos: 0.1436\n",
      "Eval\tLoss: 0.7476\n",
      "\tAccuracy: 0.6774\n",
      "\tF1: 0.6701\n",
      "\n",
      "-- Epoch 3/3 --\n"
     ]
    },
    {
     "data": {
      "application/vnd.jupyter.widget-view+json": {
       "model_id": "",
       "version_major": 2,
       "version_minor": 0
      },
      "text/plain": [
       "Training:   0%|          | 0/481 [00:00<?, ?it/s]"
      ]
     },
     "metadata": {},
     "output_type": "display_data"
    },
    {
     "data": {
      "application/vnd.jupyter.widget-view+json": {
       "model_id": "",
       "version_major": 2,
       "version_minor": 0
      },
      "text/plain": [
       "Evaluating:   0%|          | 0/61 [00:00<?, ?it/s]"
      ]
     },
     "metadata": {},
     "output_type": "display_data"
    },
    {
     "name": "stdout",
     "output_type": "stream",
     "text": [
      "Train\tLoss: 0.5037\n",
      "\tcls: 0.6016\n",
      "\tkd: 0.3400\n",
      "\tcos: 0.1459\n",
      "Eval\tLoss: 0.7373\n",
      "\tAccuracy: 0.6821\n",
      "\tF1: 0.6731\n",
      "Student model saved to: models/A0.70_T2_LR3e-05_NE3.pt\n"
     ]
    }
   ],
   "source": [
    "import torch.optim as optim\n",
    "from transformers import get_scheduler\n",
    "\n",
    "LEARNING_RATE = 3e-5\n",
    "NUM_EPOCHS = 3\n",
    "T = 2\n",
    "BATCH_SIZE = 32\n",
    "ALPHA = 0.7\n",
    "BETA = 0.2\n",
    "save_name = f\"A{ALPHA:.2f}_T{T}_LR{LEARNING_RATE}_NE{NUM_EPOCHS}\"\n",
    "\n",
    "# Create dataloaders\n",
    "train_loader, eval_loader, test_loader = create_dataloaders(dataset_preprocessed, batch_size=BATCH_SIZE)\n",
    "\n",
    "# Init student model\n",
    "student_model = build_student_model(teacher_model)\n",
    "student_model = init_student_layers(teacher_model, student_model, use_layer=\"odd\")\n",
    "\n",
    "# To device\n",
    "teacher_model = teacher_model.to(DEVICE)\n",
    "student_model = student_model.to(DEVICE)\n",
    "\n",
    "print('Teacher parameters:', count_parameters(teacher_model))\n",
    "print('Student parameters:', count_parameters(student_model))\n",
    "compression_ratio = count_parameters(student_model) / count_parameters(teacher_model)\n",
    "print(f'Compression ratio: {compression_ratio:.4f}')\n",
    "\n",
    "optimizer = optim.AdamW(student_model.parameters(), lr=LEARNING_RATE, weight_decay=0.01)\n",
    "scheduler = get_scheduler(\n",
    "    name=\"cosine\",  # linear\n",
    "    optimizer=optimizer,\n",
    "    num_warmup_steps=0,\n",
    "    num_training_steps = NUM_EPOCHS * len(train_loader)\n",
    ")\n",
    "# scheduler = ReduceLROnPlateau(\n",
    "#     optimizer,\n",
    "#     mode=\"max\",\n",
    "#     factor=0.5,\n",
    "#     patience=1,\n",
    "#     threshold=0.001,\n",
    "#     verbose=True\n",
    "# )\n",
    "\n",
    "kdtrainer = KDTrainer(\n",
    "    teacher_model=teacher_model,\n",
    "    student_model=student_model,\n",
    "    train_loader=train_loader,\n",
    "    eval_loader=eval_loader,\n",
    "    optimizer=optimizer,\n",
    "    scheduler=scheduler,\n",
    "    save_name=save_name\n",
    ")\n",
    "\n",
    "_, _ = kdtrainer.train(num_epochs=NUM_EPOCHS, T=T, alpha=ALPHA, beta=BETA)\n",
    "\n",
    "kdtrainer.save_model()"
   ]
  },
  {
   "cell_type": "code",
   "execution_count": null,
   "metadata": {},
   "outputs": [],
   "source": [
    "# !tensorboard --logdir=logs"
   ]
  },
  {
   "cell_type": "markdown",
   "metadata": {},
   "source": [
    "# Grid Search"
   ]
  },
  {
   "cell_type": "code",
   "execution_count": 21,
   "metadata": {},
   "outputs": [],
   "source": [
    "ALPHA_BETAS = [\n",
    "    (1/3, 1/3),\n",
    "    (0.5, 0.3),\n",
    "    (0.7, 0.2)\n",
    "]\n",
    "TEMPERATURES = [1, 2]\n",
    "LEARNING_RATES = [5e-5, 3e-5, 1e-5]\n",
    "NUM_EPOCHS = [5]\n",
    "BATCH_SIZE = 32"
   ]
  },
  {
   "cell_type": "code",
   "execution_count": 22,
   "metadata": {
    "scrolled": true
   },
   "outputs": [
    {
     "name": "stdout",
     "output_type": "stream",
     "text": [
      "\n",
      "Running config: alpha=0.33, beta=0.33, T=1, lr=5e-05, num_epochs=5\n",
      "\n",
      "-- Epoch 1/5 --\n"
     ]
    },
    {
     "data": {
      "application/vnd.jupyter.widget-view+json": {
       "model_id": "",
       "version_major": 2,
       "version_minor": 0
      },
      "text/plain": [
       "Training:   0%|          | 0/481 [00:00<?, ?it/s]"
      ]
     },
     "metadata": {},
     "output_type": "display_data"
    },
    {
     "data": {
      "application/vnd.jupyter.widget-view+json": {
       "model_id": "",
       "version_major": 2,
       "version_minor": 0
      },
      "text/plain": [
       "Evaluating:   0%|          | 0/61 [00:00<?, ?it/s]"
      ]
     },
     "metadata": {},
     "output_type": "display_data"
    },
    {
     "name": "stdout",
     "output_type": "stream",
     "text": [
      "Train\tLoss: 0.3593\n",
      "\tcls: 0.9135\n",
      "\tkd: 0.0637\n",
      "\tcos: 0.1006\n",
      "Eval\tLoss: 0.8581\n",
      "\tAccuracy: 0.6472\n",
      "\tF1: 0.6495\n",
      "\n",
      "-- Epoch 2/5 --\n"
     ]
    },
    {
     "data": {
      "application/vnd.jupyter.widget-view+json": {
       "model_id": "",
       "version_major": 2,
       "version_minor": 0
      },
      "text/plain": [
       "Training:   0%|          | 0/481 [00:00<?, ?it/s]"
      ]
     },
     "metadata": {},
     "output_type": "display_data"
    },
    {
     "data": {
      "application/vnd.jupyter.widget-view+json": {
       "model_id": "",
       "version_major": 2,
       "version_minor": 0
      },
      "text/plain": [
       "Evaluating:   0%|          | 0/61 [00:00<?, ?it/s]"
      ]
     },
     "metadata": {},
     "output_type": "display_data"
    },
    {
     "name": "stdout",
     "output_type": "stream",
     "text": [
      "Train\tLoss: 0.3324\n",
      "\tcls: 0.8041\n",
      "\tkd: 0.0998\n",
      "\tcos: 0.0931\n",
      "Eval\tLoss: 0.8216\n",
      "\tAccuracy: 0.6733\n",
      "\tF1: 0.6605\n",
      "\n",
      "-- Epoch 3/5 --\n"
     ]
    },
    {
     "data": {
      "application/vnd.jupyter.widget-view+json": {
       "model_id": "",
       "version_major": 2,
       "version_minor": 0
      },
      "text/plain": [
       "Training:   0%|          | 0/481 [00:00<?, ?it/s]"
      ]
     },
     "metadata": {},
     "output_type": "display_data"
    },
    {
     "data": {
      "application/vnd.jupyter.widget-view+json": {
       "model_id": "",
       "version_major": 2,
       "version_minor": 0
      },
      "text/plain": [
       "Evaluating:   0%|          | 0/61 [00:00<?, ?it/s]"
      ]
     },
     "metadata": {},
     "output_type": "display_data"
    },
    {
     "name": "stdout",
     "output_type": "stream",
     "text": [
      "Train\tLoss: 0.3098\n",
      "\tcls: 0.7062\n",
      "\tkd: 0.1328\n",
      "\tcos: 0.0903\n",
      "Eval\tLoss: 0.8256\n",
      "\tAccuracy: 0.6571\n",
      "\tF1: 0.6499\n",
      "\n",
      "-- Epoch 4/5 --\n"
     ]
    },
    {
     "data": {
      "application/vnd.jupyter.widget-view+json": {
       "model_id": "",
       "version_major": 2,
       "version_minor": 0
      },
      "text/plain": [
       "Training:   0%|          | 0/481 [00:00<?, ?it/s]"
      ]
     },
     "metadata": {},
     "output_type": "display_data"
    },
    {
     "data": {
      "application/vnd.jupyter.widget-view+json": {
       "model_id": "",
       "version_major": 2,
       "version_minor": 0
      },
      "text/plain": [
       "Evaluating:   0%|          | 0/61 [00:00<?, ?it/s]"
      ]
     },
     "metadata": {},
     "output_type": "display_data"
    },
    {
     "name": "stdout",
     "output_type": "stream",
     "text": [
      "Train\tLoss: 0.2875\n",
      "\tcls: 0.6074\n",
      "\tkd: 0.1656\n",
      "\tcos: 0.0894\n",
      "Eval\tLoss: 0.8222\n",
      "\tAccuracy: 0.6696\n",
      "\tF1: 0.6481\n",
      "\n",
      "-- Epoch 5/5 --\n"
     ]
    },
    {
     "data": {
      "application/vnd.jupyter.widget-view+json": {
       "model_id": "",
       "version_major": 2,
       "version_minor": 0
      },
      "text/plain": [
       "Training:   0%|          | 0/481 [00:00<?, ?it/s]"
      ]
     },
     "metadata": {},
     "output_type": "display_data"
    },
    {
     "data": {
      "application/vnd.jupyter.widget-view+json": {
       "model_id": "",
       "version_major": 2,
       "version_minor": 0
      },
      "text/plain": [
       "Evaluating:   0%|          | 0/61 [00:00<?, ?it/s]"
      ]
     },
     "metadata": {},
     "output_type": "display_data"
    },
    {
     "name": "stdout",
     "output_type": "stream",
     "text": [
      "Train\tLoss: 0.2675\n",
      "\tcls: 0.5239\n",
      "\tkd: 0.1915\n",
      "\tcos: 0.0871\n",
      "Eval\tLoss: 0.8311\n",
      "\tAccuracy: 0.6550\n",
      "\tF1: 0.6477\n",
      "Student model saved to: models/A0.33_T1_LR5e-05_NE5.pt\n",
      "\n",
      "Running config: alpha=0.33, beta=0.33, T=1, lr=3e-05, num_epochs=5\n",
      "\n",
      "-- Epoch 1/5 --\n"
     ]
    },
    {
     "data": {
      "application/vnd.jupyter.widget-view+json": {
       "model_id": "",
       "version_major": 2,
       "version_minor": 0
      },
      "text/plain": [
       "Training:   0%|          | 0/481 [00:00<?, ?it/s]"
      ]
     },
     "metadata": {},
     "output_type": "display_data"
    },
    {
     "data": {
      "application/vnd.jupyter.widget-view+json": {
       "model_id": "",
       "version_major": 2,
       "version_minor": 0
      },
      "text/plain": [
       "Evaluating:   0%|          | 0/61 [00:00<?, ?it/s]"
      ]
     },
     "metadata": {},
     "output_type": "display_data"
    },
    {
     "name": "stdout",
     "output_type": "stream",
     "text": [
      "Train\tLoss: 0.3612\n",
      "\tcls: 0.9298\n",
      "\tkd: 0.0567\n",
      "\tcos: 0.0971\n",
      "Eval\tLoss: 0.8408\n",
      "\tAccuracy: 0.6795\n",
      "\tF1: 0.6648\n",
      "\n",
      "-- Epoch 2/5 --\n"
     ]
    },
    {
     "data": {
      "application/vnd.jupyter.widget-view+json": {
       "model_id": "",
       "version_major": 2,
       "version_minor": 0
      },
      "text/plain": [
       "Training:   0%|          | 0/481 [00:00<?, ?it/s]"
      ]
     },
     "metadata": {},
     "output_type": "display_data"
    },
    {
     "data": {
      "application/vnd.jupyter.widget-view+json": {
       "model_id": "",
       "version_major": 2,
       "version_minor": 0
      },
      "text/plain": [
       "Evaluating:   0%|          | 0/61 [00:00<?, ?it/s]"
      ]
     },
     "metadata": {},
     "output_type": "display_data"
    },
    {
     "name": "stdout",
     "output_type": "stream",
     "text": [
      "Train\tLoss: 0.3343\n",
      "\tcls: 0.8133\n",
      "\tkd: 0.0954\n",
      "\tcos: 0.0941\n",
      "Eval\tLoss: 0.8268\n",
      "\tAccuracy: 0.6790\n",
      "\tF1: 0.6749\n",
      "\n",
      "-- Epoch 3/5 --\n"
     ]
    },
    {
     "data": {
      "application/vnd.jupyter.widget-view+json": {
       "model_id": "",
       "version_major": 2,
       "version_minor": 0
      },
      "text/plain": [
       "Training:   0%|          | 0/481 [00:00<?, ?it/s]"
      ]
     },
     "metadata": {},
     "output_type": "display_data"
    },
    {
     "data": {
      "application/vnd.jupyter.widget-view+json": {
       "model_id": "",
       "version_major": 2,
       "version_minor": 0
      },
      "text/plain": [
       "Evaluating:   0%|          | 0/61 [00:00<?, ?it/s]"
      ]
     },
     "metadata": {},
     "output_type": "display_data"
    },
    {
     "name": "stdout",
     "output_type": "stream",
     "text": [
      "Train\tLoss: 0.3161\n",
      "\tcls: 0.7357\n",
      "\tkd: 0.1214\n",
      "\tcos: 0.0911\n",
      "Eval\tLoss: 0.8089\n",
      "\tAccuracy: 0.6800\n",
      "\tF1: 0.6651\n",
      "\n",
      "-- Epoch 4/5 --\n"
     ]
    },
    {
     "data": {
      "application/vnd.jupyter.widget-view+json": {
       "model_id": "",
       "version_major": 2,
       "version_minor": 0
      },
      "text/plain": [
       "Training:   0%|          | 0/481 [00:00<?, ?it/s]"
      ]
     },
     "metadata": {},
     "output_type": "display_data"
    },
    {
     "data": {
      "application/vnd.jupyter.widget-view+json": {
       "model_id": "",
       "version_major": 2,
       "version_minor": 0
      },
      "text/plain": [
       "Evaluating:   0%|          | 0/61 [00:00<?, ?it/s]"
      ]
     },
     "metadata": {},
     "output_type": "display_data"
    },
    {
     "name": "stdout",
     "output_type": "stream",
     "text": [
      "Train\tLoss: 0.2950\n",
      "\tcls: 0.6429\n",
      "\tkd: 0.1519\n",
      "\tcos: 0.0904\n",
      "Eval\tLoss: 0.8260\n",
      "\tAccuracy: 0.6582\n",
      "\tF1: 0.6460\n",
      "\n",
      "-- Epoch 5/5 --\n"
     ]
    },
    {
     "data": {
      "application/vnd.jupyter.widget-view+json": {
       "model_id": "",
       "version_major": 2,
       "version_minor": 0
      },
      "text/plain": [
       "Training:   0%|          | 0/481 [00:00<?, ?it/s]"
      ]
     },
     "metadata": {},
     "output_type": "display_data"
    },
    {
     "data": {
      "application/vnd.jupyter.widget-view+json": {
       "model_id": "",
       "version_major": 2,
       "version_minor": 0
      },
      "text/plain": [
       "Evaluating:   0%|          | 0/61 [00:00<?, ?it/s]"
      ]
     },
     "metadata": {},
     "output_type": "display_data"
    },
    {
     "name": "stdout",
     "output_type": "stream",
     "text": [
      "Train\tLoss: 0.2758\n",
      "\tcls: 0.5595\n",
      "\tkd: 0.1784\n",
      "\tcos: 0.0895\n",
      "Eval\tLoss: 0.8291\n",
      "\tAccuracy: 0.6639\n",
      "\tF1: 0.6609\n",
      "Student model saved to: models/A0.33_T1_LR3e-05_NE5.pt\n",
      "\n",
      "Running config: alpha=0.33, beta=0.33, T=1, lr=1e-05, num_epochs=5\n",
      "\n",
      "-- Epoch 1/5 --\n"
     ]
    },
    {
     "data": {
      "application/vnd.jupyter.widget-view+json": {
       "model_id": "",
       "version_major": 2,
       "version_minor": 0
      },
      "text/plain": [
       "Training:   0%|          | 0/481 [00:00<?, ?it/s]"
      ]
     },
     "metadata": {},
     "output_type": "display_data"
    },
    {
     "data": {
      "application/vnd.jupyter.widget-view+json": {
       "model_id": "",
       "version_major": 2,
       "version_minor": 0
      },
      "text/plain": [
       "Evaluating:   0%|          | 0/61 [00:00<?, ?it/s]"
      ]
     },
     "metadata": {},
     "output_type": "display_data"
    },
    {
     "name": "stdout",
     "output_type": "stream",
     "text": [
      "Train\tLoss: 0.3736\n",
      "\tcls: 0.9963\n",
      "\tkd: 0.0322\n",
      "\tcos: 0.0922\n",
      "Eval\tLoss: 0.8855\n",
      "\tAccuracy: 0.6467\n",
      "\tF1: 0.6472\n",
      "\n",
      "-- Epoch 2/5 --\n"
     ]
    },
    {
     "data": {
      "application/vnd.jupyter.widget-view+json": {
       "model_id": "",
       "version_major": 2,
       "version_minor": 0
      },
      "text/plain": [
       "Training:   0%|          | 0/481 [00:00<?, ?it/s]"
      ]
     },
     "metadata": {},
     "output_type": "display_data"
    },
    {
     "data": {
      "application/vnd.jupyter.widget-view+json": {
       "model_id": "",
       "version_major": 2,
       "version_minor": 0
      },
      "text/plain": [
       "Evaluating:   0%|          | 0/61 [00:00<?, ?it/s]"
      ]
     },
     "metadata": {},
     "output_type": "display_data"
    },
    {
     "name": "stdout",
     "output_type": "stream",
     "text": [
      "Train\tLoss: 0.3471\n",
      "\tcls: 0.8712\n",
      "\tkd: 0.0726\n",
      "\tcos: 0.0975\n",
      "Eval\tLoss: 0.8380\n",
      "\tAccuracy: 0.6785\n",
      "\tF1: 0.6628\n",
      "\n",
      "-- Epoch 3/5 --\n"
     ]
    },
    {
     "data": {
      "application/vnd.jupyter.widget-view+json": {
       "model_id": "",
       "version_major": 2,
       "version_minor": 0
      },
      "text/plain": [
       "Training:   0%|          | 0/481 [00:00<?, ?it/s]"
      ]
     },
     "metadata": {},
     "output_type": "display_data"
    },
    {
     "data": {
      "application/vnd.jupyter.widget-view+json": {
       "model_id": "",
       "version_major": 2,
       "version_minor": 0
      },
      "text/plain": [
       "Evaluating:   0%|          | 0/61 [00:00<?, ?it/s]"
      ]
     },
     "metadata": {},
     "output_type": "display_data"
    },
    {
     "name": "stdout",
     "output_type": "stream",
     "text": [
      "Train\tLoss: 0.3361\n",
      "\tcls: 0.8229\n",
      "\tkd: 0.0895\n",
      "\tcos: 0.0958\n",
      "Eval\tLoss: 0.8314\n",
      "\tAccuracy: 0.6743\n",
      "\tF1: 0.6669\n",
      "\n",
      "-- Epoch 4/5 --\n"
     ]
    },
    {
     "data": {
      "application/vnd.jupyter.widget-view+json": {
       "model_id": "",
       "version_major": 2,
       "version_minor": 0
      },
      "text/plain": [
       "Training:   0%|          | 0/481 [00:00<?, ?it/s]"
      ]
     },
     "metadata": {},
     "output_type": "display_data"
    },
    {
     "data": {
      "application/vnd.jupyter.widget-view+json": {
       "model_id": "",
       "version_major": 2,
       "version_minor": 0
      },
      "text/plain": [
       "Evaluating:   0%|          | 0/61 [00:00<?, ?it/s]"
      ]
     },
     "metadata": {},
     "output_type": "display_data"
    },
    {
     "name": "stdout",
     "output_type": "stream",
     "text": [
      "Train\tLoss: 0.3269\n",
      "\tcls: 0.7842\n",
      "\tkd: 0.1030\n",
      "\tcos: 0.0935\n",
      "Eval\tLoss: 0.8214\n",
      "\tAccuracy: 0.6774\n",
      "\tF1: 0.6648\n",
      "\n",
      "-- Epoch 5/5 --\n"
     ]
    },
    {
     "data": {
      "application/vnd.jupyter.widget-view+json": {
       "model_id": "",
       "version_major": 2,
       "version_minor": 0
      },
      "text/plain": [
       "Training:   0%|          | 0/481 [00:00<?, ?it/s]"
      ]
     },
     "metadata": {},
     "output_type": "display_data"
    },
    {
     "data": {
      "application/vnd.jupyter.widget-view+json": {
       "model_id": "",
       "version_major": 2,
       "version_minor": 0
      },
      "text/plain": [
       "Evaluating:   0%|          | 0/61 [00:00<?, ?it/s]"
      ]
     },
     "metadata": {},
     "output_type": "display_data"
    },
    {
     "name": "stdout",
     "output_type": "stream",
     "text": [
      "Train\tLoss: 0.3165\n",
      "\tcls: 0.7388\n",
      "\tkd: 0.1177\n",
      "\tcos: 0.0930\n",
      "Eval\tLoss: 0.8091\n",
      "\tAccuracy: 0.6795\n",
      "\tF1: 0.6699\n",
      "Student model saved to: models/A0.33_T1_LR1e-05_NE5.pt\n",
      "\n",
      "Running config: alpha=0.33, beta=0.33, T=2, lr=5e-05, num_epochs=5\n",
      "\n",
      "-- Epoch 1/5 --\n"
     ]
    },
    {
     "data": {
      "application/vnd.jupyter.widget-view+json": {
       "model_id": "",
       "version_major": 2,
       "version_minor": 0
      },
      "text/plain": [
       "Training:   0%|          | 0/481 [00:00<?, ?it/s]"
      ]
     },
     "metadata": {},
     "output_type": "display_data"
    },
    {
     "data": {
      "application/vnd.jupyter.widget-view+json": {
       "model_id": "",
       "version_major": 2,
       "version_minor": 0
      },
      "text/plain": [
       "Evaluating:   0%|          | 0/61 [00:00<?, ?it/s]"
      ]
     },
     "metadata": {},
     "output_type": "display_data"
    },
    {
     "name": "stdout",
     "output_type": "stream",
     "text": [
      "Train\tLoss: 0.3612\n",
      "\tcls: 0.9230\n",
      "\tkd: 0.0608\n",
      "\tcos: 0.0997\n",
      "Eval\tLoss: 0.8480\n",
      "\tAccuracy: 0.6738\n",
      "\tF1: 0.6651\n",
      "\n",
      "-- Epoch 2/5 --\n"
     ]
    },
    {
     "data": {
      "application/vnd.jupyter.widget-view+json": {
       "model_id": "",
       "version_major": 2,
       "version_minor": 0
      },
      "text/plain": [
       "Training:   0%|          | 0/481 [00:00<?, ?it/s]"
      ]
     },
     "metadata": {},
     "output_type": "display_data"
    },
    {
     "data": {
      "application/vnd.jupyter.widget-view+json": {
       "model_id": "064219c16ec2472284ad6de6dcb899b7",
       "version_major": 2,
       "version_minor": 0
      },
      "text/plain": [
       "Evaluating:   0%|          | 0/61 [00:00<?, ?it/s]"
      ]
     },
     "metadata": {},
     "output_type": "display_data"
    },
    {
     "name": "stdout",
     "output_type": "stream",
     "text": [
      "Train\tLoss: 0.3338\n",
      "\tcls: 0.8101\n",
      "\tkd: 0.0977\n",
      "\tcos: 0.0936\n",
      "Eval\tLoss: 0.8458\n",
      "\tAccuracy: 0.6540\n",
      "\tF1: 0.6598\n",
      "\n",
      "-- Epoch 3/5 --\n"
     ]
    },
    {
     "data": {
      "application/vnd.jupyter.widget-view+json": {
       "model_id": "3e3de7d8b2bc4b30a69ec843dcbbecc3",
       "version_major": 2,
       "version_minor": 0
      },
      "text/plain": [
       "Training:   0%|          | 0/481 [00:00<?, ?it/s]"
      ]
     },
     "metadata": {},
     "output_type": "display_data"
    },
    {
     "data": {
      "application/vnd.jupyter.widget-view+json": {
       "model_id": "5359d478cd56452a9b266df4e22be958",
       "version_major": 2,
       "version_minor": 0
      },
      "text/plain": [
       "Evaluating:   0%|          | 0/61 [00:00<?, ?it/s]"
      ]
     },
     "metadata": {},
     "output_type": "display_data"
    },
    {
     "name": "stdout",
     "output_type": "stream",
     "text": [
      "Train\tLoss: 0.3109\n",
      "\tcls: 0.7136\n",
      "\tkd: 0.1284\n",
      "\tcos: 0.0906\n",
      "Eval\tLoss: 0.8332\n",
      "\tAccuracy: 0.6639\n",
      "\tF1: 0.6653\n",
      "\n",
      "-- Epoch 4/5 --\n"
     ]
    },
    {
     "data": {
      "application/vnd.jupyter.widget-view+json": {
       "model_id": "43d49438cdee452c8c0425183fbfed5b",
       "version_major": 2,
       "version_minor": 0
      },
      "text/plain": [
       "Training:   0%|          | 0/481 [00:00<?, ?it/s]"
      ]
     },
     "metadata": {},
     "output_type": "display_data"
    },
    {
     "data": {
      "application/vnd.jupyter.widget-view+json": {
       "model_id": "43672fea14e24be49759a5b57738b01f",
       "version_major": 2,
       "version_minor": 0
      },
      "text/plain": [
       "Evaluating:   0%|          | 0/61 [00:00<?, ?it/s]"
      ]
     },
     "metadata": {},
     "output_type": "display_data"
    },
    {
     "name": "stdout",
     "output_type": "stream",
     "text": [
      "Train\tLoss: 0.2827\n",
      "\tcls: 0.5926\n",
      "\tkd: 0.1660\n",
      "\tcos: 0.0896\n",
      "Eval\tLoss: 0.8267\n",
      "\tAccuracy: 0.6623\n",
      "\tF1: 0.6597\n",
      "\n",
      "-- Epoch 5/5 --\n"
     ]
    },
    {
     "data": {
      "application/vnd.jupyter.widget-view+json": {
       "model_id": "f7eb9a0e6f1b4f1fb761d0a8ba2000ba",
       "version_major": 2,
       "version_minor": 0
      },
      "text/plain": [
       "Training:   0%|          | 0/481 [00:00<?, ?it/s]"
      ]
     },
     "metadata": {},
     "output_type": "display_data"
    },
    {
     "data": {
      "application/vnd.jupyter.widget-view+json": {
       "model_id": "22a41363df434529b39c688d551fe0f8",
       "version_major": 2,
       "version_minor": 0
      },
      "text/plain": [
       "Evaluating:   0%|          | 0/61 [00:00<?, ?it/s]"
      ]
     },
     "metadata": {},
     "output_type": "display_data"
    },
    {
     "name": "stdout",
     "output_type": "stream",
     "text": [
      "Train\tLoss: 0.2710\n",
      "\tcls: 0.5415\n",
      "\tkd: 0.1828\n",
      "\tcos: 0.0886\n",
      "Eval\tLoss: 0.8404\n",
      "\tAccuracy: 0.6618\n",
      "\tF1: 0.6609\n",
      "Student model saved to: models/A0.33_T2_LR5e-05_NE5.pt\n",
      "\n",
      "Running config: alpha=0.33, beta=0.33, T=2, lr=3e-05, num_epochs=5\n",
      "\n",
      "-- Epoch 1/5 --\n"
     ]
    },
    {
     "data": {
      "application/vnd.jupyter.widget-view+json": {
       "model_id": "371de0f1222449499b5e327f411acd8f",
       "version_major": 2,
       "version_minor": 0
      },
      "text/plain": [
       "Training:   0%|          | 0/481 [00:00<?, ?it/s]"
      ]
     },
     "metadata": {},
     "output_type": "display_data"
    },
    {
     "data": {
      "application/vnd.jupyter.widget-view+json": {
       "model_id": "897924d6f8f14e9bb12f1f605f207a8a",
       "version_major": 2,
       "version_minor": 0
      },
      "text/plain": [
       "Evaluating:   0%|          | 0/61 [00:00<?, ?it/s]"
      ]
     },
     "metadata": {},
     "output_type": "display_data"
    },
    {
     "name": "stdout",
     "output_type": "stream",
     "text": [
      "Train\tLoss: 0.3632\n",
      "\tcls: 0.9367\n",
      "\tkd: 0.0547\n",
      "\tcos: 0.0981\n",
      "Eval\tLoss: 0.8706\n",
      "\tAccuracy: 0.6514\n",
      "\tF1: 0.6556\n",
      "\n",
      "-- Epoch 2/5 --\n"
     ]
    },
    {
     "data": {
      "application/vnd.jupyter.widget-view+json": {
       "model_id": "eb29a47e070f4223b2ac9471959bfc86",
       "version_major": 2,
       "version_minor": 0
      },
      "text/plain": [
       "Training:   0%|          | 0/481 [00:00<?, ?it/s]"
      ]
     },
     "metadata": {},
     "output_type": "display_data"
    },
    {
     "data": {
      "application/vnd.jupyter.widget-view+json": {
       "model_id": "1661a7a28e6e4a7290954e8622ff617a",
       "version_major": 2,
       "version_minor": 0
      },
      "text/plain": [
       "Evaluating:   0%|          | 0/61 [00:00<?, ?it/s]"
      ]
     },
     "metadata": {},
     "output_type": "display_data"
    },
    {
     "name": "stdout",
     "output_type": "stream",
     "text": [
      "Train\tLoss: 0.3361\n",
      "\tcls: 0.8229\n",
      "\tkd: 0.0913\n",
      "\tcos: 0.0940\n",
      "Eval\tLoss: 0.8475\n",
      "\tAccuracy: 0.6660\n",
      "\tF1: 0.6648\n",
      "\n",
      "-- Epoch 3/5 --\n"
     ]
    },
    {
     "data": {
      "application/vnd.jupyter.widget-view+json": {
       "model_id": "7b708e106b974264b0653711027adf1f",
       "version_major": 2,
       "version_minor": 0
      },
      "text/plain": [
       "Training:   0%|          | 0/481 [00:00<?, ?it/s]"
      ]
     },
     "metadata": {},
     "output_type": "display_data"
    },
    {
     "data": {
      "application/vnd.jupyter.widget-view+json": {
       "model_id": "09c426b45a174d76ab56c474f732bd29",
       "version_major": 2,
       "version_minor": 0
      },
      "text/plain": [
       "Evaluating:   0%|          | 0/61 [00:00<?, ?it/s]"
      ]
     },
     "metadata": {},
     "output_type": "display_data"
    },
    {
     "name": "stdout",
     "output_type": "stream",
     "text": [
      "Train\tLoss: 0.3176\n",
      "\tcls: 0.7428\n",
      "\tkd: 0.1181\n",
      "\tcos: 0.0919\n",
      "Eval\tLoss: 0.8306\n",
      "\tAccuracy: 0.6634\n",
      "\tF1: 0.6625\n",
      "\n",
      "-- Epoch 4/5 --\n"
     ]
    },
    {
     "data": {
      "application/vnd.jupyter.widget-view+json": {
       "model_id": "",
       "version_major": 2,
       "version_minor": 0
      },
      "text/plain": [
       "Training:   0%|          | 0/481 [00:00<?, ?it/s]"
      ]
     },
     "metadata": {},
     "output_type": "display_data"
    },
    {
     "data": {
      "application/vnd.jupyter.widget-view+json": {
       "model_id": "",
       "version_major": 2,
       "version_minor": 0
      },
      "text/plain": [
       "Evaluating:   0%|          | 0/61 [00:00<?, ?it/s]"
      ]
     },
     "metadata": {},
     "output_type": "display_data"
    },
    {
     "name": "stdout",
     "output_type": "stream",
     "text": [
      "Train\tLoss: 0.2956\n",
      "\tcls: 0.6477\n",
      "\tkd: 0.1480\n",
      "\tcos: 0.0911\n",
      "Eval\tLoss: 0.8342\n",
      "\tAccuracy: 0.6535\n",
      "\tF1: 0.6477\n",
      "\n",
      "-- Epoch 5/5 --\n"
     ]
    },
    {
     "data": {
      "application/vnd.jupyter.widget-view+json": {
       "model_id": "",
       "version_major": 2,
       "version_minor": 0
      },
      "text/plain": [
       "Training:   0%|          | 0/481 [00:00<?, ?it/s]"
      ]
     },
     "metadata": {},
     "output_type": "display_data"
    },
    {
     "data": {
      "application/vnd.jupyter.widget-view+json": {
       "model_id": "",
       "version_major": 2,
       "version_minor": 0
      },
      "text/plain": [
       "Evaluating:   0%|          | 0/61 [00:00<?, ?it/s]"
      ]
     },
     "metadata": {},
     "output_type": "display_data"
    },
    {
     "name": "stdout",
     "output_type": "stream",
     "text": [
      "Train\tLoss: 0.2762\n",
      "\tcls: 0.5639\n",
      "\tkd: 0.1742\n",
      "\tcos: 0.0906\n",
      "Eval\tLoss: 0.8432\n",
      "\tAccuracy: 0.6478\n",
      "\tF1: 0.6441\n",
      "Student model saved to: models/A0.33_T2_LR3e-05_NE5.pt\n",
      "\n",
      "Running config: alpha=0.33, beta=0.33, T=2, lr=1e-05, num_epochs=5\n",
      "\n",
      "-- Epoch 1/5 --\n"
     ]
    },
    {
     "data": {
      "application/vnd.jupyter.widget-view+json": {
       "model_id": "",
       "version_major": 2,
       "version_minor": 0
      },
      "text/plain": [
       "Training:   0%|          | 0/481 [00:00<?, ?it/s]"
      ]
     },
     "metadata": {},
     "output_type": "display_data"
    },
    {
     "data": {
      "application/vnd.jupyter.widget-view+json": {
       "model_id": "",
       "version_major": 2,
       "version_minor": 0
      },
      "text/plain": [
       "Evaluating:   0%|          | 0/61 [00:00<?, ?it/s]"
      ]
     },
     "metadata": {},
     "output_type": "display_data"
    },
    {
     "name": "stdout",
     "output_type": "stream",
     "text": [
      "Train\tLoss: 0.3746\n",
      "\tcls: 1.0018\n",
      "\tkd: 0.0305\n",
      "\tcos: 0.0915\n",
      "Eval\tLoss: 0.8795\n",
      "\tAccuracy: 0.6374\n",
      "\tF1: 0.6266\n",
      "\n",
      "-- Epoch 2/5 --\n"
     ]
    },
    {
     "data": {
      "application/vnd.jupyter.widget-view+json": {
       "model_id": "",
       "version_major": 2,
       "version_minor": 0
      },
      "text/plain": [
       "Training:   0%|          | 0/481 [00:00<?, ?it/s]"
      ]
     },
     "metadata": {},
     "output_type": "display_data"
    },
    {
     "data": {
      "application/vnd.jupyter.widget-view+json": {
       "model_id": "",
       "version_major": 2,
       "version_minor": 0
      },
      "text/plain": [
       "Evaluating:   0%|          | 0/61 [00:00<?, ?it/s]"
      ]
     },
     "metadata": {},
     "output_type": "display_data"
    },
    {
     "name": "stdout",
     "output_type": "stream",
     "text": [
      "Train\tLoss: 0.3480\n",
      "\tcls: 0.8757\n",
      "\tkd: 0.0707\n",
      "\tcos: 0.0977\n",
      "Eval\tLoss: 0.8486\n",
      "\tAccuracy: 0.6785\n",
      "\tF1: 0.6698\n",
      "\n",
      "-- Epoch 3/5 --\n"
     ]
    },
    {
     "data": {
      "application/vnd.jupyter.widget-view+json": {
       "model_id": "",
       "version_major": 2,
       "version_minor": 0
      },
      "text/plain": [
       "Training:   0%|          | 0/481 [00:00<?, ?it/s]"
      ]
     },
     "metadata": {},
     "output_type": "display_data"
    },
    {
     "data": {
      "application/vnd.jupyter.widget-view+json": {
       "model_id": "",
       "version_major": 2,
       "version_minor": 0
      },
      "text/plain": [
       "Evaluating:   0%|          | 0/61 [00:00<?, ?it/s]"
      ]
     },
     "metadata": {},
     "output_type": "display_data"
    },
    {
     "name": "stdout",
     "output_type": "stream",
     "text": [
      "Train\tLoss: 0.3357\n",
      "\tcls: 0.8230\n",
      "\tkd: 0.0884\n",
      "\tcos: 0.0955\n",
      "Eval\tLoss: 0.8141\n",
      "\tAccuracy: 0.6774\n",
      "\tF1: 0.6698\n",
      "\n",
      "-- Epoch 4/5 --\n"
     ]
    },
    {
     "data": {
      "application/vnd.jupyter.widget-view+json": {
       "model_id": "",
       "version_major": 2,
       "version_minor": 0
      },
      "text/plain": [
       "Training:   0%|          | 0/481 [00:00<?, ?it/s]"
      ]
     },
     "metadata": {},
     "output_type": "display_data"
    },
    {
     "data": {
      "application/vnd.jupyter.widget-view+json": {
       "model_id": "",
       "version_major": 2,
       "version_minor": 0
      },
      "text/plain": [
       "Evaluating:   0%|          | 0/61 [00:00<?, ?it/s]"
      ]
     },
     "metadata": {},
     "output_type": "display_data"
    },
    {
     "name": "stdout",
     "output_type": "stream",
     "text": [
      "Train\tLoss: 0.3267\n",
      "\tcls: 0.7828\n",
      "\tkd: 0.1028\n",
      "\tcos: 0.0946\n",
      "Eval\tLoss: 0.8369\n",
      "\tAccuracy: 0.6660\n",
      "\tF1: 0.6676\n",
      "\n",
      "-- Epoch 5/5 --\n"
     ]
    },
    {
     "data": {
      "application/vnd.jupyter.widget-view+json": {
       "model_id": "",
       "version_major": 2,
       "version_minor": 0
      },
      "text/plain": [
       "Training:   0%|          | 0/481 [00:00<?, ?it/s]"
      ]
     },
     "metadata": {},
     "output_type": "display_data"
    },
    {
     "data": {
      "application/vnd.jupyter.widget-view+json": {
       "model_id": "",
       "version_major": 2,
       "version_minor": 0
      },
      "text/plain": [
       "Evaluating:   0%|          | 0/61 [00:00<?, ?it/s]"
      ]
     },
     "metadata": {},
     "output_type": "display_data"
    },
    {
     "name": "stdout",
     "output_type": "stream",
     "text": [
      "Train\tLoss: 0.3149\n",
      "\tcls: 0.7344\n",
      "\tkd: 0.1163\n",
      "\tcos: 0.0940\n",
      "Eval\tLoss: 0.8118\n",
      "\tAccuracy: 0.6707\n",
      "\tF1: 0.6622\n",
      "Student model saved to: models/A0.33_T2_LR1e-05_NE5.pt\n",
      "\n",
      "Running config: alpha=0.50, beta=0.30, T=1, lr=5e-05, num_epochs=5\n",
      "\n",
      "-- Epoch 1/5 --\n"
     ]
    },
    {
     "data": {
      "application/vnd.jupyter.widget-view+json": {
       "model_id": "",
       "version_major": 2,
       "version_minor": 0
      },
      "text/plain": [
       "Training:   0%|          | 0/481 [00:00<?, ?it/s]"
      ]
     },
     "metadata": {},
     "output_type": "display_data"
    },
    {
     "data": {
      "application/vnd.jupyter.widget-view+json": {
       "model_id": "",
       "version_major": 2,
       "version_minor": 0
      },
      "text/plain": [
       "Evaluating:   0%|          | 0/61 [00:00<?, ?it/s]"
      ]
     },
     "metadata": {},
     "output_type": "display_data"
    },
    {
     "name": "stdout",
     "output_type": "stream",
     "text": [
      "Train\tLoss: 0.4923\n",
      "\tcls: 0.8692\n",
      "\tkd: 0.1113\n",
      "\tcos: 0.1216\n",
      "Eval\tLoss: 0.8005\n",
      "\tAccuracy: 0.6717\n",
      "\tF1: 0.6622\n",
      "\n",
      "-- Epoch 2/5 --\n"
     ]
    },
    {
     "data": {
      "application/vnd.jupyter.widget-view+json": {
       "model_id": "",
       "version_major": 2,
       "version_minor": 0
      },
      "text/plain": [
       "Training:   0%|          | 0/481 [00:00<?, ?it/s]"
      ]
     },
     "metadata": {},
     "output_type": "display_data"
    },
    {
     "data": {
      "application/vnd.jupyter.widget-view+json": {
       "model_id": "",
       "version_major": 2,
       "version_minor": 0
      },
      "text/plain": [
       "Evaluating:   0%|          | 0/61 [00:00<?, ?it/s]"
      ]
     },
     "metadata": {},
     "output_type": "display_data"
    },
    {
     "name": "stdout",
     "output_type": "stream",
     "text": [
      "Train\tLoss: 0.4458\n",
      "\tcls: 0.7435\n",
      "\tkd: 0.1716\n",
      "\tcos: 0.1129\n",
      "Eval\tLoss: 0.7708\n",
      "\tAccuracy: 0.6764\n",
      "\tF1: 0.6719\n",
      "\n",
      "-- Epoch 3/5 --\n"
     ]
    },
    {
     "data": {
      "application/vnd.jupyter.widget-view+json": {
       "model_id": "",
       "version_major": 2,
       "version_minor": 0
      },
      "text/plain": [
       "Training:   0%|          | 0/481 [00:00<?, ?it/s]"
      ]
     },
     "metadata": {},
     "output_type": "display_data"
    },
    {
     "data": {
      "application/vnd.jupyter.widget-view+json": {
       "model_id": "",
       "version_major": 2,
       "version_minor": 0
      },
      "text/plain": [
       "Evaluating:   0%|          | 0/61 [00:00<?, ?it/s]"
      ]
     },
     "metadata": {},
     "output_type": "display_data"
    },
    {
     "name": "stdout",
     "output_type": "stream",
     "text": [
      "Train\tLoss: 0.4022\n",
      "\tcls: 0.6227\n",
      "\tkd: 0.2283\n",
      "\tcos: 0.1117\n",
      "Eval\tLoss: 0.7899\n",
      "\tAccuracy: 0.6686\n",
      "\tF1: 0.6635\n",
      "\n",
      "-- Epoch 4/5 --\n"
     ]
    },
    {
     "data": {
      "application/vnd.jupyter.widget-view+json": {
       "model_id": "",
       "version_major": 2,
       "version_minor": 0
      },
      "text/plain": [
       "Training:   0%|          | 0/481 [00:00<?, ?it/s]"
      ]
     },
     "metadata": {},
     "output_type": "display_data"
    },
    {
     "data": {
      "application/vnd.jupyter.widget-view+json": {
       "model_id": "",
       "version_major": 2,
       "version_minor": 0
      },
      "text/plain": [
       "Evaluating:   0%|          | 0/61 [00:00<?, ?it/s]"
      ]
     },
     "metadata": {},
     "output_type": "display_data"
    },
    {
     "name": "stdout",
     "output_type": "stream",
     "text": [
      "Train\tLoss: 0.3578\n",
      "\tcls: 0.4983\n",
      "\tkd: 0.2860\n",
      "\tcos: 0.1142\n",
      "Eval\tLoss: 0.8078\n",
      "\tAccuracy: 0.6582\n",
      "\tF1: 0.6468\n",
      "\n",
      "-- Epoch 5/5 --\n"
     ]
    },
    {
     "data": {
      "application/vnd.jupyter.widget-view+json": {
       "model_id": "",
       "version_major": 2,
       "version_minor": 0
      },
      "text/plain": [
       "Training:   0%|          | 0/481 [00:00<?, ?it/s]"
      ]
     },
     "metadata": {},
     "output_type": "display_data"
    },
    {
     "data": {
      "application/vnd.jupyter.widget-view+json": {
       "model_id": "",
       "version_major": 2,
       "version_minor": 0
      },
      "text/plain": [
       "Evaluating:   0%|          | 0/61 [00:00<?, ?it/s]"
      ]
     },
     "metadata": {},
     "output_type": "display_data"
    },
    {
     "name": "stdout",
     "output_type": "stream",
     "text": [
      "Train\tLoss: 0.3224\n",
      "\tcls: 0.4001\n",
      "\tkd: 0.3317\n",
      "\tcos: 0.1143\n",
      "Eval\tLoss: 0.8210\n",
      "\tAccuracy: 0.6592\n",
      "\tF1: 0.6542\n",
      "Student model saved to: models/A0.50_T1_LR5e-05_NE5.pt\n",
      "\n",
      "Running config: alpha=0.50, beta=0.30, T=1, lr=3e-05, num_epochs=5\n",
      "\n",
      "-- Epoch 1/5 --\n"
     ]
    },
    {
     "data": {
      "application/vnd.jupyter.widget-view+json": {
       "model_id": "",
       "version_major": 2,
       "version_minor": 0
      },
      "text/plain": [
       "Training:   0%|          | 0/481 [00:00<?, ?it/s]"
      ]
     },
     "metadata": {},
     "output_type": "display_data"
    },
    {
     "data": {
      "application/vnd.jupyter.widget-view+json": {
       "model_id": "",
       "version_major": 2,
       "version_minor": 0
      },
      "text/plain": [
       "Evaluating:   0%|          | 0/61 [00:00<?, ?it/s]"
      ]
     },
     "metadata": {},
     "output_type": "display_data"
    },
    {
     "name": "stdout",
     "output_type": "stream",
     "text": [
      "Train\tLoss: 0.4924\n",
      "\tcls: 0.8722\n",
      "\tkd: 0.1063\n",
      "\tcos: 0.1223\n",
      "Eval\tLoss: 0.8014\n",
      "\tAccuracy: 0.6764\n",
      "\tF1: 0.6595\n",
      "\n",
      "-- Epoch 2/5 --\n"
     ]
    },
    {
     "data": {
      "application/vnd.jupyter.widget-view+json": {
       "model_id": "",
       "version_major": 2,
       "version_minor": 0
      },
      "text/plain": [
       "Training:   0%|          | 0/481 [00:00<?, ?it/s]"
      ]
     },
     "metadata": {},
     "output_type": "display_data"
    },
    {
     "data": {
      "application/vnd.jupyter.widget-view+json": {
       "model_id": "",
       "version_major": 2,
       "version_minor": 0
      },
      "text/plain": [
       "Evaluating:   0%|          | 0/61 [00:00<?, ?it/s]"
      ]
     },
     "metadata": {},
     "output_type": "display_data"
    },
    {
     "name": "stdout",
     "output_type": "stream",
     "text": [
      "Train\tLoss: 0.4483\n",
      "\tcls: 0.7511\n",
      "\tkd: 0.1650\n",
      "\tcos: 0.1164\n",
      "Eval\tLoss: 0.7759\n",
      "\tAccuracy: 0.6759\n",
      "\tF1: 0.6558\n",
      "\n",
      "-- Epoch 3/5 --\n"
     ]
    },
    {
     "data": {
      "application/vnd.jupyter.widget-view+json": {
       "model_id": "",
       "version_major": 2,
       "version_minor": 0
      },
      "text/plain": [
       "Training:   0%|          | 0/481 [00:00<?, ?it/s]"
      ]
     },
     "metadata": {},
     "output_type": "display_data"
    },
    {
     "data": {
      "application/vnd.jupyter.widget-view+json": {
       "model_id": "",
       "version_major": 2,
       "version_minor": 0
      },
      "text/plain": [
       "Evaluating:   0%|          | 0/61 [00:00<?, ?it/s]"
      ]
     },
     "metadata": {},
     "output_type": "display_data"
    },
    {
     "name": "stdout",
     "output_type": "stream",
     "text": [
      "Train\tLoss: 0.4142\n",
      "\tcls: 0.6557\n",
      "\tkd: 0.2098\n",
      "\tcos: 0.1168\n",
      "Eval\tLoss: 0.7676\n",
      "\tAccuracy: 0.6779\n",
      "\tF1: 0.6680\n",
      "\n",
      "-- Epoch 4/5 --\n"
     ]
    },
    {
     "data": {
      "application/vnd.jupyter.widget-view+json": {
       "model_id": "",
       "version_major": 2,
       "version_minor": 0
      },
      "text/plain": [
       "Training:   0%|          | 0/481 [00:00<?, ?it/s]"
      ]
     },
     "metadata": {},
     "output_type": "display_data"
    },
    {
     "data": {
      "application/vnd.jupyter.widget-view+json": {
       "model_id": "",
       "version_major": 2,
       "version_minor": 0
      },
      "text/plain": [
       "Evaluating:   0%|          | 0/61 [00:00<?, ?it/s]"
      ]
     },
     "metadata": {},
     "output_type": "display_data"
    },
    {
     "name": "stdout",
     "output_type": "stream",
     "text": [
      "Train\tLoss: 0.3732\n",
      "\tcls: 0.5406\n",
      "\tkd: 0.2649\n",
      "\tcos: 0.1174\n",
      "Eval\tLoss: 0.7921\n",
      "\tAccuracy: 0.6748\n",
      "\tF1: 0.6674\n",
      "\n",
      "-- Epoch 5/5 --\n"
     ]
    },
    {
     "data": {
      "application/vnd.jupyter.widget-view+json": {
       "model_id": "",
       "version_major": 2,
       "version_minor": 0
      },
      "text/plain": [
       "Training:   0%|          | 0/481 [00:00<?, ?it/s]"
      ]
     },
     "metadata": {},
     "output_type": "display_data"
    },
    {
     "data": {
      "application/vnd.jupyter.widget-view+json": {
       "model_id": "",
       "version_major": 2,
       "version_minor": 0
      },
      "text/plain": [
       "Evaluating:   0%|          | 0/61 [00:00<?, ?it/s]"
      ]
     },
     "metadata": {},
     "output_type": "display_data"
    },
    {
     "name": "stdout",
     "output_type": "stream",
     "text": [
      "Train\tLoss: 0.3427\n",
      "\tcls: 0.4543\n",
      "\tkd: 0.3062\n",
      "\tcos: 0.1184\n",
      "Eval\tLoss: 0.8173\n",
      "\tAccuracy: 0.6498\n",
      "\tF1: 0.6408\n",
      "Student model saved to: models/A0.50_T1_LR3e-05_NE5.pt\n",
      "\n",
      "Running config: alpha=0.50, beta=0.30, T=1, lr=1e-05, num_epochs=5\n",
      "\n",
      "-- Epoch 1/5 --\n"
     ]
    },
    {
     "data": {
      "application/vnd.jupyter.widget-view+json": {
       "model_id": "",
       "version_major": 2,
       "version_minor": 0
      },
      "text/plain": [
       "Training:   0%|          | 0/481 [00:00<?, ?it/s]"
      ]
     },
     "metadata": {},
     "output_type": "display_data"
    },
    {
     "data": {
      "application/vnd.jupyter.widget-view+json": {
       "model_id": "",
       "version_major": 2,
       "version_minor": 0
      },
      "text/plain": [
       "Evaluating:   0%|          | 0/61 [00:00<?, ?it/s]"
      ]
     },
     "metadata": {},
     "output_type": "display_data"
    },
    {
     "name": "stdout",
     "output_type": "stream",
     "text": [
      "Train\tLoss: 0.5122\n",
      "\tcls: 0.9338\n",
      "\tkd: 0.0704\n",
      "\tcos: 0.1206\n",
      "Eval\tLoss: 0.8112\n",
      "\tAccuracy: 0.6665\n",
      "\tF1: 0.6571\n",
      "\n",
      "-- Epoch 2/5 --\n"
     ]
    },
    {
     "data": {
      "application/vnd.jupyter.widget-view+json": {
       "model_id": "",
       "version_major": 2,
       "version_minor": 0
      },
      "text/plain": [
       "Training:   0%|          | 0/481 [00:00<?, ?it/s]"
      ]
     },
     "metadata": {},
     "output_type": "display_data"
    },
    {
     "data": {
      "application/vnd.jupyter.widget-view+json": {
       "model_id": "",
       "version_major": 2,
       "version_minor": 0
      },
      "text/plain": [
       "Evaluating:   0%|          | 0/61 [00:00<?, ?it/s]"
      ]
     },
     "metadata": {},
     "output_type": "display_data"
    },
    {
     "name": "stdout",
     "output_type": "stream",
     "text": [
      "Train\tLoss: 0.4634\n",
      "\tcls: 0.7940\n",
      "\tkd: 0.1396\n",
      "\tcos: 0.1223\n",
      "Eval\tLoss: 0.7936\n",
      "\tAccuracy: 0.6701\n",
      "\tF1: 0.6573\n",
      "\n",
      "-- Epoch 3/5 --\n"
     ]
    },
    {
     "data": {
      "application/vnd.jupyter.widget-view+json": {
       "model_id": "",
       "version_major": 2,
       "version_minor": 0
      },
      "text/plain": [
       "Training:   0%|          | 0/481 [00:00<?, ?it/s]"
      ]
     },
     "metadata": {},
     "output_type": "display_data"
    },
    {
     "data": {
      "application/vnd.jupyter.widget-view+json": {
       "model_id": "",
       "version_major": 2,
       "version_minor": 0
      },
      "text/plain": [
       "Evaluating:   0%|          | 0/61 [00:00<?, ?it/s]"
      ]
     },
     "metadata": {},
     "output_type": "display_data"
    },
    {
     "name": "stdout",
     "output_type": "stream",
     "text": [
      "Train\tLoss: 0.4451\n",
      "\tcls: 0.7428\n",
      "\tkd: 0.1655\n",
      "\tcos: 0.1201\n",
      "Eval\tLoss: 0.8103\n",
      "\tAccuracy: 0.6592\n",
      "\tF1: 0.6535\n",
      "\n",
      "-- Epoch 4/5 --\n"
     ]
    },
    {
     "data": {
      "application/vnd.jupyter.widget-view+json": {
       "model_id": "",
       "version_major": 2,
       "version_minor": 0
      },
      "text/plain": [
       "Training:   0%|          | 0/481 [00:00<?, ?it/s]"
      ]
     },
     "metadata": {},
     "output_type": "display_data"
    },
    {
     "data": {
      "application/vnd.jupyter.widget-view+json": {
       "model_id": "",
       "version_major": 2,
       "version_minor": 0
      },
      "text/plain": [
       "Evaluating:   0%|          | 0/61 [00:00<?, ?it/s]"
      ]
     },
     "metadata": {},
     "output_type": "display_data"
    },
    {
     "name": "stdout",
     "output_type": "stream",
     "text": [
      "Train\tLoss: 0.4258\n",
      "\tcls: 0.6916\n",
      "\tkd: 0.1863\n",
      "\tcos: 0.1205\n",
      "Eval\tLoss: 0.7730\n",
      "\tAccuracy: 0.6738\n",
      "\tF1: 0.6698\n",
      "\n",
      "-- Epoch 5/5 --\n"
     ]
    },
    {
     "data": {
      "application/vnd.jupyter.widget-view+json": {
       "model_id": "",
       "version_major": 2,
       "version_minor": 0
      },
      "text/plain": [
       "Training:   0%|          | 0/481 [00:00<?, ?it/s]"
      ]
     },
     "metadata": {},
     "output_type": "display_data"
    },
    {
     "data": {
      "application/vnd.jupyter.widget-view+json": {
       "model_id": "",
       "version_major": 2,
       "version_minor": 0
      },
      "text/plain": [
       "Evaluating:   0%|          | 0/61 [00:00<?, ?it/s]"
      ]
     },
     "metadata": {},
     "output_type": "display_data"
    },
    {
     "name": "stdout",
     "output_type": "stream",
     "text": [
      "Train\tLoss: 0.4157\n",
      "\tcls: 0.6614\n",
      "\tkd: 0.2025\n",
      "\tcos: 0.1212\n",
      "Eval\tLoss: 0.7738\n",
      "\tAccuracy: 0.6696\n",
      "\tF1: 0.6633\n",
      "Student model saved to: models/A0.50_T1_LR1e-05_NE5.pt\n",
      "\n",
      "Running config: alpha=0.50, beta=0.30, T=2, lr=5e-05, num_epochs=5\n",
      "\n",
      "-- Epoch 1/5 --\n"
     ]
    },
    {
     "data": {
      "application/vnd.jupyter.widget-view+json": {
       "model_id": "",
       "version_major": 2,
       "version_minor": 0
      },
      "text/plain": [
       "Training:   0%|          | 0/481 [00:00<?, ?it/s]"
      ]
     },
     "metadata": {},
     "output_type": "display_data"
    },
    {
     "data": {
      "application/vnd.jupyter.widget-view+json": {
       "model_id": "",
       "version_major": 2,
       "version_minor": 0
      },
      "text/plain": [
       "Evaluating:   0%|          | 0/61 [00:00<?, ?it/s]"
      ]
     },
     "metadata": {},
     "output_type": "display_data"
    },
    {
     "name": "stdout",
     "output_type": "stream",
     "text": [
      "Train\tLoss: 0.4913\n",
      "\tcls: 0.8678\n",
      "\tkd: 0.1103\n",
      "\tcos: 0.1215\n",
      "Eval\tLoss: 0.7864\n",
      "\tAccuracy: 0.6722\n",
      "\tF1: 0.6647\n",
      "\n",
      "-- Epoch 2/5 --\n"
     ]
    },
    {
     "data": {
      "application/vnd.jupyter.widget-view+json": {
       "model_id": "",
       "version_major": 2,
       "version_minor": 0
      },
      "text/plain": [
       "Training:   0%|          | 0/481 [00:00<?, ?it/s]"
      ]
     },
     "metadata": {},
     "output_type": "display_data"
    },
    {
     "data": {
      "application/vnd.jupyter.widget-view+json": {
       "model_id": "",
       "version_major": 2,
       "version_minor": 0
      },
      "text/plain": [
       "Evaluating:   0%|          | 0/61 [00:00<?, ?it/s]"
      ]
     },
     "metadata": {},
     "output_type": "display_data"
    },
    {
     "name": "stdout",
     "output_type": "stream",
     "text": [
      "Train\tLoss: 0.4439\n",
      "\tcls: 0.7400\n",
      "\tkd: 0.1699\n",
      "\tcos: 0.1145\n",
      "Eval\tLoss: 0.7809\n",
      "\tAccuracy: 0.6649\n",
      "\tF1: 0.6525\n",
      "\n",
      "-- Epoch 3/5 --\n"
     ]
    },
    {
     "data": {
      "application/vnd.jupyter.widget-view+json": {
       "model_id": "",
       "version_major": 2,
       "version_minor": 0
      },
      "text/plain": [
       "Training:   0%|          | 0/481 [00:00<?, ?it/s]"
      ]
     },
     "metadata": {},
     "output_type": "display_data"
    },
    {
     "data": {
      "application/vnd.jupyter.widget-view+json": {
       "model_id": "",
       "version_major": 2,
       "version_minor": 0
      },
      "text/plain": [
       "Evaluating:   0%|          | 0/61 [00:00<?, ?it/s]"
      ]
     },
     "metadata": {},
     "output_type": "display_data"
    },
    {
     "name": "stdout",
     "output_type": "stream",
     "text": [
      "Train\tLoss: 0.4026\n",
      "\tcls: 0.6255\n",
      "\tkd: 0.2231\n",
      "\tcos: 0.1147\n",
      "Eval\tLoss: 0.7948\n",
      "\tAccuracy: 0.6774\n",
      "\tF1: 0.6727\n",
      "\n",
      "-- Epoch 4/5 --\n"
     ]
    },
    {
     "data": {
      "application/vnd.jupyter.widget-view+json": {
       "model_id": "",
       "version_major": 2,
       "version_minor": 0
      },
      "text/plain": [
       "Training:   0%|          | 0/481 [00:00<?, ?it/s]"
      ]
     },
     "metadata": {},
     "output_type": "display_data"
    },
    {
     "data": {
      "application/vnd.jupyter.widget-view+json": {
       "model_id": "",
       "version_major": 2,
       "version_minor": 0
      },
      "text/plain": [
       "Evaluating:   0%|          | 0/61 [00:00<?, ?it/s]"
      ]
     },
     "metadata": {},
     "output_type": "display_data"
    },
    {
     "name": "stdout",
     "output_type": "stream",
     "text": [
      "Train\tLoss: 0.3595\n",
      "\tcls: 0.5071\n",
      "\tkd: 0.2759\n",
      "\tcos: 0.1157\n",
      "Eval\tLoss: 0.8215\n",
      "\tAccuracy: 0.6561\n",
      "\tF1: 0.6509\n",
      "\n",
      "-- Epoch 5/5 --\n"
     ]
    },
    {
     "data": {
      "application/vnd.jupyter.widget-view+json": {
       "model_id": "",
       "version_major": 2,
       "version_minor": 0
      },
      "text/plain": [
       "Training:   0%|          | 0/481 [00:00<?, ?it/s]"
      ]
     },
     "metadata": {},
     "output_type": "display_data"
    },
    {
     "data": {
      "application/vnd.jupyter.widget-view+json": {
       "model_id": "",
       "version_major": 2,
       "version_minor": 0
      },
      "text/plain": [
       "Evaluating:   0%|          | 0/61 [00:00<?, ?it/s]"
      ]
     },
     "metadata": {},
     "output_type": "display_data"
    },
    {
     "name": "stdout",
     "output_type": "stream",
     "text": [
      "Train\tLoss: 0.3359\n",
      "\tcls: 0.4409\n",
      "\tkd: 0.3074\n",
      "\tcos: 0.1161\n",
      "Eval\tLoss: 0.8187\n",
      "\tAccuracy: 0.6602\n",
      "\tF1: 0.6573\n",
      "Student model saved to: models/A0.50_T2_LR5e-05_NE5.pt\n",
      "\n",
      "Running config: alpha=0.50, beta=0.30, T=2, lr=3e-05, num_epochs=5\n",
      "\n",
      "-- Epoch 1/5 --\n"
     ]
    },
    {
     "data": {
      "application/vnd.jupyter.widget-view+json": {
       "model_id": "",
       "version_major": 2,
       "version_minor": 0
      },
      "text/plain": [
       "Training:   0%|          | 0/481 [00:00<?, ?it/s]"
      ]
     },
     "metadata": {},
     "output_type": "display_data"
    },
    {
     "data": {
      "application/vnd.jupyter.widget-view+json": {
       "model_id": "",
       "version_major": 2,
       "version_minor": 0
      },
      "text/plain": [
       "Evaluating:   0%|          | 0/61 [00:00<?, ?it/s]"
      ]
     },
     "metadata": {},
     "output_type": "display_data"
    },
    {
     "name": "stdout",
     "output_type": "stream",
     "text": [
      "Train\tLoss: 0.4942\n",
      "\tcls: 0.8772\n",
      "\tkd: 0.1031\n",
      "\tcos: 0.1233\n",
      "Eval\tLoss: 0.8114\n",
      "\tAccuracy: 0.6774\n",
      "\tF1: 0.6666\n",
      "\n",
      "-- Epoch 2/5 --\n"
     ]
    },
    {
     "data": {
      "application/vnd.jupyter.widget-view+json": {
       "model_id": "",
       "version_major": 2,
       "version_minor": 0
      },
      "text/plain": [
       "Training:   0%|          | 0/481 [00:00<?, ?it/s]"
      ]
     },
     "metadata": {},
     "output_type": "display_data"
    },
    {
     "data": {
      "application/vnd.jupyter.widget-view+json": {
       "model_id": "",
       "version_major": 2,
       "version_minor": 0
      },
      "text/plain": [
       "Evaluating:   0%|          | 0/61 [00:00<?, ?it/s]"
      ]
     },
     "metadata": {},
     "output_type": "display_data"
    },
    {
     "name": "stdout",
     "output_type": "stream",
     "text": [
      "Train\tLoss: 0.4482\n",
      "\tcls: 0.7515\n",
      "\tkd: 0.1626\n",
      "\tcos: 0.1183\n",
      "Eval\tLoss: 0.7804\n",
      "\tAccuracy: 0.6774\n",
      "\tF1: 0.6682\n",
      "\n",
      "-- Epoch 3/5 --\n"
     ]
    },
    {
     "data": {
      "application/vnd.jupyter.widget-view+json": {
       "model_id": "",
       "version_major": 2,
       "version_minor": 0
      },
      "text/plain": [
       "Training:   0%|          | 0/481 [00:00<?, ?it/s]"
      ]
     },
     "metadata": {},
     "output_type": "display_data"
    },
    {
     "data": {
      "application/vnd.jupyter.widget-view+json": {
       "model_id": "",
       "version_major": 2,
       "version_minor": 0
      },
      "text/plain": [
       "Evaluating:   0%|          | 0/61 [00:00<?, ?it/s]"
      ]
     },
     "metadata": {},
     "output_type": "display_data"
    },
    {
     "name": "stdout",
     "output_type": "stream",
     "text": [
      "Train\tLoss: 0.4137\n",
      "\tcls: 0.6559\n",
      "\tkd: 0.2069\n",
      "\tcos: 0.1183\n",
      "Eval\tLoss: 0.7659\n",
      "\tAccuracy: 0.6811\n",
      "\tF1: 0.6680\n",
      "\n",
      "-- Epoch 4/5 --\n"
     ]
    },
    {
     "data": {
      "application/vnd.jupyter.widget-view+json": {
       "model_id": "",
       "version_major": 2,
       "version_minor": 0
      },
      "text/plain": [
       "Training:   0%|          | 0/481 [00:00<?, ?it/s]"
      ]
     },
     "metadata": {},
     "output_type": "display_data"
    },
    {
     "data": {
      "application/vnd.jupyter.widget-view+json": {
       "model_id": "",
       "version_major": 2,
       "version_minor": 0
      },
      "text/plain": [
       "Evaluating:   0%|          | 0/61 [00:00<?, ?it/s]"
      ]
     },
     "metadata": {},
     "output_type": "display_data"
    },
    {
     "name": "stdout",
     "output_type": "stream",
     "text": [
      "Train\tLoss: 0.3729\n",
      "\tcls: 0.5435\n",
      "\tkd: 0.2573\n",
      "\tcos: 0.1199\n",
      "Eval\tLoss: 0.7970\n",
      "\tAccuracy: 0.6779\n",
      "\tF1: 0.6700\n",
      "\n",
      "-- Epoch 5/5 --\n"
     ]
    },
    {
     "data": {
      "application/vnd.jupyter.widget-view+json": {
       "model_id": "",
       "version_major": 2,
       "version_minor": 0
      },
      "text/plain": [
       "Training:   0%|          | 0/481 [00:00<?, ?it/s]"
      ]
     },
     "metadata": {},
     "output_type": "display_data"
    },
    {
     "data": {
      "application/vnd.jupyter.widget-view+json": {
       "model_id": "",
       "version_major": 2,
       "version_minor": 0
      },
      "text/plain": [
       "Evaluating:   0%|          | 0/61 [00:00<?, ?it/s]"
      ]
     },
     "metadata": {},
     "output_type": "display_data"
    },
    {
     "name": "stdout",
     "output_type": "stream",
     "text": [
      "Train\tLoss: 0.3420\n",
      "\tcls: 0.4574\n",
      "\tkd: 0.2971\n",
      "\tcos: 0.1209\n",
      "Eval\tLoss: 0.8094\n",
      "\tAccuracy: 0.6655\n",
      "\tF1: 0.6527\n",
      "Student model saved to: models/A0.50_T2_LR3e-05_NE5.pt\n",
      "\n",
      "Running config: alpha=0.50, beta=0.30, T=2, lr=1e-05, num_epochs=5\n",
      "\n",
      "-- Epoch 1/5 --\n"
     ]
    },
    {
     "data": {
      "application/vnd.jupyter.widget-view+json": {
       "model_id": "",
       "version_major": 2,
       "version_minor": 0
      },
      "text/plain": [
       "Training:   0%|          | 0/481 [00:00<?, ?it/s]"
      ]
     },
     "metadata": {},
     "output_type": "display_data"
    },
    {
     "data": {
      "application/vnd.jupyter.widget-view+json": {
       "model_id": "",
       "version_major": 2,
       "version_minor": 0
      },
      "text/plain": [
       "Evaluating:   0%|          | 0/61 [00:00<?, ?it/s]"
      ]
     },
     "metadata": {},
     "output_type": "display_data"
    },
    {
     "name": "stdout",
     "output_type": "stream",
     "text": [
      "Train\tLoss: 0.5124\n",
      "\tcls: 0.9330\n",
      "\tkd: 0.0711\n",
      "\tcos: 0.1231\n",
      "Eval\tLoss: 0.8178\n",
      "\tAccuracy: 0.6644\n",
      "\tF1: 0.6585\n",
      "\n",
      "-- Epoch 2/5 --\n"
     ]
    },
    {
     "data": {
      "application/vnd.jupyter.widget-view+json": {
       "model_id": "",
       "version_major": 2,
       "version_minor": 0
      },
      "text/plain": [
       "Training:   0%|          | 0/481 [00:00<?, ?it/s]"
      ]
     },
     "metadata": {},
     "output_type": "display_data"
    },
    {
     "data": {
      "application/vnd.jupyter.widget-view+json": {
       "model_id": "",
       "version_major": 2,
       "version_minor": 0
      },
      "text/plain": [
       "Evaluating:   0%|          | 0/61 [00:00<?, ?it/s]"
      ]
     },
     "metadata": {},
     "output_type": "display_data"
    },
    {
     "name": "stdout",
     "output_type": "stream",
     "text": [
      "Train\tLoss: 0.4650\n",
      "\tcls: 0.7992\n",
      "\tkd: 0.1356\n",
      "\tcos: 0.1234\n",
      "Eval\tLoss: 0.7924\n",
      "\tAccuracy: 0.6753\n",
      "\tF1: 0.6636\n",
      "\n",
      "-- Epoch 3/5 --\n"
     ]
    },
    {
     "data": {
      "application/vnd.jupyter.widget-view+json": {
       "model_id": "",
       "version_major": 2,
       "version_minor": 0
      },
      "text/plain": [
       "Training:   0%|          | 0/481 [00:00<?, ?it/s]"
      ]
     },
     "metadata": {},
     "output_type": "display_data"
    },
    {
     "data": {
      "application/vnd.jupyter.widget-view+json": {
       "model_id": "",
       "version_major": 2,
       "version_minor": 0
      },
      "text/plain": [
       "Evaluating:   0%|          | 0/61 [00:00<?, ?it/s]"
      ]
     },
     "metadata": {},
     "output_type": "display_data"
    },
    {
     "name": "stdout",
     "output_type": "stream",
     "text": [
      "Train\tLoss: 0.4459\n",
      "\tcls: 0.7462\n",
      "\tkd: 0.1612\n",
      "\tcos: 0.1222\n",
      "Eval\tLoss: 0.7722\n",
      "\tAccuracy: 0.6769\n",
      "\tF1: 0.6618\n",
      "\n",
      "-- Epoch 4/5 --\n"
     ]
    },
    {
     "data": {
      "application/vnd.jupyter.widget-view+json": {
       "model_id": "",
       "version_major": 2,
       "version_minor": 0
      },
      "text/plain": [
       "Training:   0%|          | 0/481 [00:00<?, ?it/s]"
      ]
     },
     "metadata": {},
     "output_type": "display_data"
    },
    {
     "data": {
      "application/vnd.jupyter.widget-view+json": {
       "model_id": "",
       "version_major": 2,
       "version_minor": 0
      },
      "text/plain": [
       "Evaluating:   0%|          | 0/61 [00:00<?, ?it/s]"
      ]
     },
     "metadata": {},
     "output_type": "display_data"
    },
    {
     "name": "stdout",
     "output_type": "stream",
     "text": [
      "Train\tLoss: 0.4284\n",
      "\tcls: 0.6972\n",
      "\tkd: 0.1845\n",
      "\tcos: 0.1221\n",
      "Eval\tLoss: 0.7774\n",
      "\tAccuracy: 0.6696\n",
      "\tF1: 0.6632\n",
      "\n",
      "-- Epoch 5/5 --\n"
     ]
    },
    {
     "data": {
      "application/vnd.jupyter.widget-view+json": {
       "model_id": "",
       "version_major": 2,
       "version_minor": 0
      },
      "text/plain": [
       "Training:   0%|          | 0/481 [00:00<?, ?it/s]"
      ]
     },
     "metadata": {},
     "output_type": "display_data"
    },
    {
     "data": {
      "application/vnd.jupyter.widget-view+json": {
       "model_id": "",
       "version_major": 2,
       "version_minor": 0
      },
      "text/plain": [
       "Evaluating:   0%|          | 0/61 [00:00<?, ?it/s]"
      ]
     },
     "metadata": {},
     "output_type": "display_data"
    },
    {
     "name": "stdout",
     "output_type": "stream",
     "text": [
      "Train\tLoss: 0.4050\n",
      "\tcls: 0.6361\n",
      "\tkd: 0.2083\n",
      "\tcos: 0.1225\n",
      "Eval\tLoss: 0.7739\n",
      "\tAccuracy: 0.6670\n",
      "\tF1: 0.6623\n",
      "Student model saved to: models/A0.50_T2_LR1e-05_NE5.pt\n",
      "\n",
      "Running config: alpha=0.70, beta=0.20, T=1, lr=5e-05, num_epochs=5\n",
      "\n",
      "-- Epoch 1/5 --\n"
     ]
    },
    {
     "data": {
      "application/vnd.jupyter.widget-view+json": {
       "model_id": "",
       "version_major": 2,
       "version_minor": 0
      },
      "text/plain": [
       "Training:   0%|          | 0/481 [00:00<?, ?it/s]"
      ]
     },
     "metadata": {},
     "output_type": "display_data"
    },
    {
     "data": {
      "application/vnd.jupyter.widget-view+json": {
       "model_id": "",
       "version_major": 2,
       "version_minor": 0
      },
      "text/plain": [
       "Evaluating:   0%|          | 0/61 [00:00<?, ?it/s]"
      ]
     },
     "metadata": {},
     "output_type": "display_data"
    },
    {
     "name": "stdout",
     "output_type": "stream",
     "text": [
      "Train\tLoss: 0.6320\n",
      "\tcls: 0.8272\n",
      "\tkd: 0.1900\n",
      "\tcos: 0.1498\n",
      "Eval\tLoss: 0.7704\n",
      "\tAccuracy: 0.6764\n",
      "\tF1: 0.6469\n",
      "\n",
      "-- Epoch 2/5 --\n"
     ]
    },
    {
     "data": {
      "application/vnd.jupyter.widget-view+json": {
       "model_id": "",
       "version_major": 2,
       "version_minor": 0
      },
      "text/plain": [
       "Training:   0%|          | 0/481 [00:00<?, ?it/s]"
      ]
     },
     "metadata": {},
     "output_type": "display_data"
    },
    {
     "data": {
      "application/vnd.jupyter.widget-view+json": {
       "model_id": "",
       "version_major": 2,
       "version_minor": 0
      },
      "text/plain": [
       "Evaluating:   0%|          | 0/61 [00:00<?, ?it/s]"
      ]
     },
     "metadata": {},
     "output_type": "display_data"
    },
    {
     "name": "stdout",
     "output_type": "stream",
     "text": [
      "Train\tLoss: 0.5540\n",
      "\tcls: 0.6874\n",
      "\tkd: 0.2971\n",
      "\tcos: 0.1345\n",
      "Eval\tLoss: 0.7522\n",
      "\tAccuracy: 0.6805\n",
      "\tF1: 0.6694\n",
      "\n",
      "-- Epoch 3/5 --\n"
     ]
    },
    {
     "data": {
      "application/vnd.jupyter.widget-view+json": {
       "model_id": "",
       "version_major": 2,
       "version_minor": 0
      },
      "text/plain": [
       "Training:   0%|          | 0/481 [00:00<?, ?it/s]"
      ]
     },
     "metadata": {},
     "output_type": "display_data"
    },
    {
     "data": {
      "application/vnd.jupyter.widget-view+json": {
       "model_id": "",
       "version_major": 2,
       "version_minor": 0
      },
      "text/plain": [
       "Evaluating:   0%|          | 0/61 [00:00<?, ?it/s]"
      ]
     },
     "metadata": {},
     "output_type": "display_data"
    },
    {
     "name": "stdout",
     "output_type": "stream",
     "text": [
      "Train\tLoss: 0.4720\n",
      "\tcls: 0.5391\n",
      "\tkd: 0.4049\n",
      "\tcos: 0.1368\n",
      "Eval\tLoss: 0.7855\n",
      "\tAccuracy: 0.6701\n",
      "\tF1: 0.6540\n",
      "\n",
      "-- Epoch 4/5 --\n"
     ]
    },
    {
     "data": {
      "application/vnd.jupyter.widget-view+json": {
       "model_id": "",
       "version_major": 2,
       "version_minor": 0
      },
      "text/plain": [
       "Training:   0%|          | 0/481 [00:00<?, ?it/s]"
      ]
     },
     "metadata": {},
     "output_type": "display_data"
    },
    {
     "data": {
      "application/vnd.jupyter.widget-view+json": {
       "model_id": "",
       "version_major": 2,
       "version_minor": 0
      },
      "text/plain": [
       "Evaluating:   0%|          | 0/61 [00:00<?, ?it/s]"
      ]
     },
     "metadata": {},
     "output_type": "display_data"
    },
    {
     "name": "stdout",
     "output_type": "stream",
     "text": [
      "Train\tLoss: 0.3932\n",
      "\tcls: 0.3958\n",
      "\tkd: 0.5115\n",
      "\tcos: 0.1385\n",
      "Eval\tLoss: 0.7862\n",
      "\tAccuracy: 0.6696\n",
      "\tF1: 0.6579\n",
      "\n",
      "-- Epoch 5/5 --\n"
     ]
    },
    {
     "data": {
      "application/vnd.jupyter.widget-view+json": {
       "model_id": "",
       "version_major": 2,
       "version_minor": 0
      },
      "text/plain": [
       "Training:   0%|          | 0/481 [00:00<?, ?it/s]"
      ]
     },
     "metadata": {},
     "output_type": "display_data"
    },
    {
     "data": {
      "application/vnd.jupyter.widget-view+json": {
       "model_id": "",
       "version_major": 2,
       "version_minor": 0
      },
      "text/plain": [
       "Evaluating:   0%|          | 0/61 [00:00<?, ?it/s]"
      ]
     },
     "metadata": {},
     "output_type": "display_data"
    },
    {
     "name": "stdout",
     "output_type": "stream",
     "text": [
      "Train\tLoss: 0.3284\n",
      "\tcls: 0.2781\n",
      "\tkd: 0.5987\n",
      "\tcos: 0.1397\n",
      "Eval\tLoss: 0.8351\n",
      "\tAccuracy: 0.6655\n",
      "\tF1: 0.6540\n",
      "Student model saved to: models/A0.70_T1_LR5e-05_NE5.pt\n",
      "\n",
      "Running config: alpha=0.70, beta=0.20, T=1, lr=3e-05, num_epochs=5\n",
      "\n",
      "-- Epoch 1/5 --\n"
     ]
    },
    {
     "data": {
      "application/vnd.jupyter.widget-view+json": {
       "model_id": "",
       "version_major": 2,
       "version_minor": 0
      },
      "text/plain": [
       "Training:   0%|          | 0/481 [00:00<?, ?it/s]"
      ]
     },
     "metadata": {},
     "output_type": "display_data"
    },
    {
     "data": {
      "application/vnd.jupyter.widget-view+json": {
       "model_id": "",
       "version_major": 2,
       "version_minor": 0
      },
      "text/plain": [
       "Evaluating:   0%|          | 0/61 [00:00<?, ?it/s]"
      ]
     },
     "metadata": {},
     "output_type": "display_data"
    },
    {
     "name": "stdout",
     "output_type": "stream",
     "text": [
      "Train\tLoss: 0.6382\n",
      "\tcls: 0.8382\n",
      "\tkd: 0.1788\n",
      "\tcos: 0.1573\n",
      "Eval\tLoss: 0.7599\n",
      "\tAccuracy: 0.6847\n",
      "\tF1: 0.6773\n",
      "\n",
      "-- Epoch 2/5 --\n"
     ]
    },
    {
     "data": {
      "application/vnd.jupyter.widget-view+json": {
       "model_id": "",
       "version_major": 2,
       "version_minor": 0
      },
      "text/plain": [
       "Training:   0%|          | 0/481 [00:00<?, ?it/s]"
      ]
     },
     "metadata": {},
     "output_type": "display_data"
    },
    {
     "data": {
      "application/vnd.jupyter.widget-view+json": {
       "model_id": "",
       "version_major": 2,
       "version_minor": 0
      },
      "text/plain": [
       "Evaluating:   0%|          | 0/61 [00:00<?, ?it/s]"
      ]
     },
     "metadata": {},
     "output_type": "display_data"
    },
    {
     "name": "stdout",
     "output_type": "stream",
     "text": [
      "Train\tLoss: 0.5595\n",
      "\tcls: 0.6979\n",
      "\tkd: 0.2840\n",
      "\tcos: 0.1421\n",
      "Eval\tLoss: 0.7518\n",
      "\tAccuracy: 0.6889\n",
      "\tF1: 0.6837\n",
      "\n",
      "-- Epoch 3/5 --\n"
     ]
    },
    {
     "data": {
      "application/vnd.jupyter.widget-view+json": {
       "model_id": "",
       "version_major": 2,
       "version_minor": 0
      },
      "text/plain": [
       "Training:   0%|          | 0/481 [00:00<?, ?it/s]"
      ]
     },
     "metadata": {},
     "output_type": "display_data"
    },
    {
     "data": {
      "application/vnd.jupyter.widget-view+json": {
       "model_id": "",
       "version_major": 2,
       "version_minor": 0
      },
      "text/plain": [
       "Evaluating:   0%|          | 0/61 [00:00<?, ?it/s]"
      ]
     },
     "metadata": {},
     "output_type": "display_data"
    },
    {
     "name": "stdout",
     "output_type": "stream",
     "text": [
      "Train\tLoss: 0.4956\n",
      "\tcls: 0.5825\n",
      "\tkd: 0.3683\n",
      "\tcos: 0.1423\n",
      "Eval\tLoss: 0.7421\n",
      "\tAccuracy: 0.6816\n",
      "\tF1: 0.6796\n",
      "\n",
      "-- Epoch 4/5 --\n"
     ]
    },
    {
     "data": {
      "application/vnd.jupyter.widget-view+json": {
       "model_id": "",
       "version_major": 2,
       "version_minor": 0
      },
      "text/plain": [
       "Training:   0%|          | 0/481 [00:00<?, ?it/s]"
      ]
     },
     "metadata": {},
     "output_type": "display_data"
    },
    {
     "data": {
      "application/vnd.jupyter.widget-view+json": {
       "model_id": "",
       "version_major": 2,
       "version_minor": 0
      },
      "text/plain": [
       "Evaluating:   0%|          | 0/61 [00:00<?, ?it/s]"
      ]
     },
     "metadata": {},
     "output_type": "display_data"
    },
    {
     "name": "stdout",
     "output_type": "stream",
     "text": [
      "Train\tLoss: 0.4254\n",
      "\tcls: 0.4534\n",
      "\tkd: 0.4675\n",
      "\tcos: 0.1452\n",
      "Eval\tLoss: 0.7802\n",
      "\tAccuracy: 0.6602\n",
      "\tF1: 0.6531\n",
      "\n",
      "-- Epoch 5/5 --\n"
     ]
    },
    {
     "data": {
      "application/vnd.jupyter.widget-view+json": {
       "model_id": "",
       "version_major": 2,
       "version_minor": 0
      },
      "text/plain": [
       "Training:   0%|          | 0/481 [00:00<?, ?it/s]"
      ]
     },
     "metadata": {},
     "output_type": "display_data"
    },
    {
     "data": {
      "application/vnd.jupyter.widget-view+json": {
       "model_id": "",
       "version_major": 2,
       "version_minor": 0
      },
      "text/plain": [
       "Evaluating:   0%|          | 0/61 [00:00<?, ?it/s]"
      ]
     },
     "metadata": {},
     "output_type": "display_data"
    },
    {
     "name": "stdout",
     "output_type": "stream",
     "text": [
      "Train\tLoss: 0.3539\n",
      "\tcls: 0.3241\n",
      "\tkd: 0.5610\n",
      "\tcos: 0.1479\n",
      "Eval\tLoss: 0.8173\n",
      "\tAccuracy: 0.6655\n",
      "\tF1: 0.6613\n",
      "Student model saved to: models/A0.70_T1_LR3e-05_NE5.pt\n",
      "\n",
      "Running config: alpha=0.70, beta=0.20, T=1, lr=1e-05, num_epochs=5\n",
      "\n",
      "-- Epoch 1/5 --\n"
     ]
    },
    {
     "data": {
      "application/vnd.jupyter.widget-view+json": {
       "model_id": "",
       "version_major": 2,
       "version_minor": 0
      },
      "text/plain": [
       "Training:   0%|          | 0/481 [00:00<?, ?it/s]"
      ]
     },
     "metadata": {},
     "output_type": "display_data"
    },
    {
     "data": {
      "application/vnd.jupyter.widget-view+json": {
       "model_id": "",
       "version_major": 2,
       "version_minor": 0
      },
      "text/plain": [
       "Evaluating:   0%|          | 0/61 [00:00<?, ?it/s]"
      ]
     },
     "metadata": {},
     "output_type": "display_data"
    },
    {
     "name": "stdout",
     "output_type": "stream",
     "text": [
      "Train\tLoss: 0.6684\n",
      "\tcls: 0.8953\n",
      "\tkd: 0.1244\n",
      "\tcos: 0.1684\n",
      "Eval\tLoss: 0.7821\n",
      "\tAccuracy: 0.6602\n",
      "\tF1: 0.6451\n",
      "\n",
      "-- Epoch 2/5 --\n"
     ]
    },
    {
     "data": {
      "application/vnd.jupyter.widget-view+json": {
       "model_id": "",
       "version_major": 2,
       "version_minor": 0
      },
      "text/plain": [
       "Training:   0%|          | 0/481 [00:00<?, ?it/s]"
      ]
     },
     "metadata": {},
     "output_type": "display_data"
    },
    {
     "data": {
      "application/vnd.jupyter.widget-view+json": {
       "model_id": "",
       "version_major": 2,
       "version_minor": 0
      },
      "text/plain": [
       "Evaluating:   0%|          | 0/61 [00:00<?, ?it/s]"
      ]
     },
     "metadata": {},
     "output_type": "display_data"
    },
    {
     "name": "stdout",
     "output_type": "stream",
     "text": [
      "Train\tLoss: 0.5872\n",
      "\tcls: 0.7488\n",
      "\tkd: 0.2378\n",
      "\tcos: 0.1553\n",
      "Eval\tLoss: 0.7494\n",
      "\tAccuracy: 0.6852\n",
      "\tF1: 0.6703\n",
      "\n",
      "-- Epoch 3/5 --\n"
     ]
    },
    {
     "data": {
      "application/vnd.jupyter.widget-view+json": {
       "model_id": "",
       "version_major": 2,
       "version_minor": 0
      },
      "text/plain": [
       "Training:   0%|          | 0/481 [00:00<?, ?it/s]"
      ]
     },
     "metadata": {},
     "output_type": "display_data"
    },
    {
     "data": {
      "application/vnd.jupyter.widget-view+json": {
       "model_id": "",
       "version_major": 2,
       "version_minor": 0
      },
      "text/plain": [
       "Evaluating:   0%|          | 0/61 [00:00<?, ?it/s]"
      ]
     },
     "metadata": {},
     "output_type": "display_data"
    },
    {
     "name": "stdout",
     "output_type": "stream",
     "text": [
      "Train\tLoss: 0.5532\n",
      "\tcls: 0.6884\n",
      "\tkd: 0.2825\n",
      "\tcos: 0.1489\n",
      "Eval\tLoss: 0.7297\n",
      "\tAccuracy: 0.6878\n",
      "\tF1: 0.6737\n",
      "\n",
      "-- Epoch 4/5 --\n"
     ]
    },
    {
     "data": {
      "application/vnd.jupyter.widget-view+json": {
       "model_id": "",
       "version_major": 2,
       "version_minor": 0
      },
      "text/plain": [
       "Training:   0%|          | 0/481 [00:00<?, ?it/s]"
      ]
     },
     "metadata": {},
     "output_type": "display_data"
    },
    {
     "data": {
      "application/vnd.jupyter.widget-view+json": {
       "model_id": "",
       "version_major": 2,
       "version_minor": 0
      },
      "text/plain": [
       "Evaluating:   0%|          | 0/61 [00:00<?, ?it/s]"
      ]
     },
     "metadata": {},
     "output_type": "display_data"
    },
    {
     "name": "stdout",
     "output_type": "stream",
     "text": [
      "Train\tLoss: 0.5223\n",
      "\tcls: 0.6314\n",
      "\tkd: 0.3273\n",
      "\tcos: 0.1484\n",
      "Eval\tLoss: 0.7377\n",
      "\tAccuracy: 0.6811\n",
      "\tF1: 0.6661\n",
      "\n",
      "-- Epoch 5/5 --\n"
     ]
    },
    {
     "data": {
      "application/vnd.jupyter.widget-view+json": {
       "model_id": "",
       "version_major": 2,
       "version_minor": 0
      },
      "text/plain": [
       "Training:   0%|          | 0/481 [00:00<?, ?it/s]"
      ]
     },
     "metadata": {},
     "output_type": "display_data"
    },
    {
     "data": {
      "application/vnd.jupyter.widget-view+json": {
       "model_id": "",
       "version_major": 2,
       "version_minor": 0
      },
      "text/plain": [
       "Evaluating:   0%|          | 0/61 [00:00<?, ?it/s]"
      ]
     },
     "metadata": {},
     "output_type": "display_data"
    },
    {
     "name": "stdout",
     "output_type": "stream",
     "text": [
      "Train\tLoss: 0.4847\n",
      "\tcls: 0.5629\n",
      "\tkd: 0.3780\n",
      "\tcos: 0.1513\n",
      "Eval\tLoss: 0.7748\n",
      "\tAccuracy: 0.6566\n",
      "\tF1: 0.6475\n",
      "Student model saved to: models/A0.70_T1_LR1e-05_NE5.pt\n",
      "\n",
      "Running config: alpha=0.70, beta=0.20, T=2, lr=5e-05, num_epochs=5\n",
      "\n",
      "-- Epoch 1/5 --\n"
     ]
    },
    {
     "data": {
      "application/vnd.jupyter.widget-view+json": {
       "model_id": "",
       "version_major": 2,
       "version_minor": 0
      },
      "text/plain": [
       "Training:   0%|          | 0/481 [00:00<?, ?it/s]"
      ]
     },
     "metadata": {},
     "output_type": "display_data"
    },
    {
     "data": {
      "application/vnd.jupyter.widget-view+json": {
       "model_id": "",
       "version_major": 2,
       "version_minor": 0
      },
      "text/plain": [
       "Evaluating:   0%|          | 0/61 [00:00<?, ?it/s]"
      ]
     },
     "metadata": {},
     "output_type": "display_data"
    },
    {
     "name": "stdout",
     "output_type": "stream",
     "text": [
      "Train\tLoss: 0.6319\n",
      "\tcls: 0.8268\n",
      "\tkd: 0.1894\n",
      "\tcos: 0.1529\n",
      "Eval\tLoss: 0.7787\n",
      "\tAccuracy: 0.6717\n",
      "\tF1: 0.6659\n",
      "\n",
      "-- Epoch 2/5 --\n"
     ]
    },
    {
     "data": {
      "application/vnd.jupyter.widget-view+json": {
       "model_id": "",
       "version_major": 2,
       "version_minor": 0
      },
      "text/plain": [
       "Training:   0%|          | 0/481 [00:00<?, ?it/s]"
      ]
     },
     "metadata": {},
     "output_type": "display_data"
    },
    {
     "data": {
      "application/vnd.jupyter.widget-view+json": {
       "model_id": "",
       "version_major": 2,
       "version_minor": 0
      },
      "text/plain": [
       "Evaluating:   0%|          | 0/61 [00:00<?, ?it/s]"
      ]
     },
     "metadata": {},
     "output_type": "display_data"
    },
    {
     "name": "stdout",
     "output_type": "stream",
     "text": [
      "Train\tLoss: 0.5551\n",
      "\tcls: 0.6903\n",
      "\tkd: 0.2910\n",
      "\tcos: 0.1368\n",
      "Eval\tLoss: 0.7431\n",
      "\tAccuracy: 0.6847\n",
      "\tF1: 0.6558\n",
      "\n",
      "-- Epoch 3/5 --\n"
     ]
    },
    {
     "data": {
      "application/vnd.jupyter.widget-view+json": {
       "model_id": "",
       "version_major": 2,
       "version_minor": 0
      },
      "text/plain": [
       "Training:   0%|          | 0/481 [00:00<?, ?it/s]"
      ]
     },
     "metadata": {},
     "output_type": "display_data"
    },
    {
     "data": {
      "application/vnd.jupyter.widget-view+json": {
       "model_id": "",
       "version_major": 2,
       "version_minor": 0
      },
      "text/plain": [
       "Evaluating:   0%|          | 0/61 [00:00<?, ?it/s]"
      ]
     },
     "metadata": {},
     "output_type": "display_data"
    },
    {
     "name": "stdout",
     "output_type": "stream",
     "text": [
      "Train\tLoss: 0.4771\n",
      "\tcls: 0.5516\n",
      "\tkd: 0.3866\n",
      "\tcos: 0.1369\n",
      "Eval\tLoss: 0.7735\n",
      "\tAccuracy: 0.6759\n",
      "\tF1: 0.6552\n",
      "\n",
      "-- Epoch 4/5 --\n"
     ]
    },
    {
     "data": {
      "application/vnd.jupyter.widget-view+json": {
       "model_id": "",
       "version_major": 2,
       "version_minor": 0
      },
      "text/plain": [
       "Training:   0%|          | 0/481 [00:00<?, ?it/s]"
      ]
     },
     "metadata": {},
     "output_type": "display_data"
    },
    {
     "data": {
      "application/vnd.jupyter.widget-view+json": {
       "model_id": "",
       "version_major": 2,
       "version_minor": 0
      },
      "text/plain": [
       "Evaluating:   0%|          | 0/61 [00:00<?, ?it/s]"
      ]
     },
     "metadata": {},
     "output_type": "display_data"
    },
    {
     "name": "stdout",
     "output_type": "stream",
     "text": [
      "Train\tLoss: 0.3790\n",
      "\tcls: 0.3761\n",
      "\tkd: 0.5087\n",
      "\tcos: 0.1403\n",
      "Eval\tLoss: 0.8059\n",
      "\tAccuracy: 0.6639\n",
      "\tF1: 0.6528\n",
      "\n",
      "-- Epoch 5/5 --\n"
     ]
    },
    {
     "data": {
      "application/vnd.jupyter.widget-view+json": {
       "model_id": "",
       "version_major": 2,
       "version_minor": 0
      },
      "text/plain": [
       "Training:   0%|          | 0/481 [00:00<?, ?it/s]"
      ]
     },
     "metadata": {},
     "output_type": "display_data"
    },
    {
     "data": {
      "application/vnd.jupyter.widget-view+json": {
       "model_id": "",
       "version_major": 2,
       "version_minor": 0
      },
      "text/plain": [
       "Evaluating:   0%|          | 0/61 [00:00<?, ?it/s]"
      ]
     },
     "metadata": {},
     "output_type": "display_data"
    },
    {
     "name": "stdout",
     "output_type": "stream",
     "text": [
      "Train\tLoss: 0.3382\n",
      "\tcls: 0.3019\n",
      "\tkd: 0.5641\n",
      "\tcos: 0.1401\n",
      "Eval\tLoss: 0.8586\n",
      "\tAccuracy: 0.6556\n",
      "\tF1: 0.6515\n",
      "Student model saved to: models/A0.70_T2_LR5e-05_NE5.pt\n",
      "\n",
      "Running config: alpha=0.70, beta=0.20, T=2, lr=3e-05, num_epochs=5\n",
      "\n",
      "-- Epoch 1/5 --\n"
     ]
    },
    {
     "data": {
      "application/vnd.jupyter.widget-view+json": {
       "model_id": "",
       "version_major": 2,
       "version_minor": 0
      },
      "text/plain": [
       "Training:   0%|          | 0/481 [00:00<?, ?it/s]"
      ]
     },
     "metadata": {},
     "output_type": "display_data"
    },
    {
     "data": {
      "application/vnd.jupyter.widget-view+json": {
       "model_id": "",
       "version_major": 2,
       "version_minor": 0
      },
      "text/plain": [
       "Evaluating:   0%|          | 0/61 [00:00<?, ?it/s]"
      ]
     },
     "metadata": {},
     "output_type": "display_data"
    },
    {
     "name": "stdout",
     "output_type": "stream",
     "text": [
      "Train\tLoss: 0.6373\n",
      "\tcls: 0.8376\n",
      "\tkd: 0.1764\n",
      "\tcos: 0.1572\n",
      "Eval\tLoss: 0.7429\n",
      "\tAccuracy: 0.6816\n",
      "\tF1: 0.6696\n",
      "\n",
      "-- Epoch 2/5 --\n"
     ]
    },
    {
     "data": {
      "application/vnd.jupyter.widget-view+json": {
       "model_id": "",
       "version_major": 2,
       "version_minor": 0
      },
      "text/plain": [
       "Training:   0%|          | 0/481 [00:00<?, ?it/s]"
      ]
     },
     "metadata": {},
     "output_type": "display_data"
    },
    {
     "data": {
      "application/vnd.jupyter.widget-view+json": {
       "model_id": "",
       "version_major": 2,
       "version_minor": 0
      },
      "text/plain": [
       "Evaluating:   0%|          | 0/61 [00:00<?, ?it/s]"
      ]
     },
     "metadata": {},
     "output_type": "display_data"
    },
    {
     "name": "stdout",
     "output_type": "stream",
     "text": [
      "Train\tLoss: 0.5591\n",
      "\tcls: 0.6982\n",
      "\tkd: 0.2804\n",
      "\tcos: 0.1431\n",
      "Eval\tLoss: 0.7410\n",
      "\tAccuracy: 0.6774\n",
      "\tF1: 0.6663\n",
      "\n",
      "-- Epoch 3/5 --\n"
     ]
    },
    {
     "data": {
      "application/vnd.jupyter.widget-view+json": {
       "model_id": "",
       "version_major": 2,
       "version_minor": 0
      },
      "text/plain": [
       "Training:   0%|          | 0/481 [00:00<?, ?it/s]"
      ]
     },
     "metadata": {},
     "output_type": "display_data"
    },
    {
     "data": {
      "application/vnd.jupyter.widget-view+json": {
       "model_id": "",
       "version_major": 2,
       "version_minor": 0
      },
      "text/plain": [
       "Evaluating:   0%|          | 0/61 [00:00<?, ?it/s]"
      ]
     },
     "metadata": {},
     "output_type": "display_data"
    },
    {
     "name": "stdout",
     "output_type": "stream",
     "text": [
      "Train\tLoss: 0.4959\n",
      "\tcls: 0.5845\n",
      "\tkd: 0.3623\n",
      "\tcos: 0.1430\n",
      "Eval\tLoss: 0.7773\n",
      "\tAccuracy: 0.6571\n",
      "\tF1: 0.6478\n",
      "\n",
      "-- Epoch 4/5 --\n"
     ]
    },
    {
     "data": {
      "application/vnd.jupyter.widget-view+json": {
       "model_id": "",
       "version_major": 2,
       "version_minor": 0
      },
      "text/plain": [
       "Training:   0%|          | 0/481 [00:00<?, ?it/s]"
      ]
     },
     "metadata": {},
     "output_type": "display_data"
    },
    {
     "data": {
      "application/vnd.jupyter.widget-view+json": {
       "model_id": "",
       "version_major": 2,
       "version_minor": 0
      },
      "text/plain": [
       "Evaluating:   0%|          | 0/61 [00:00<?, ?it/s]"
      ]
     },
     "metadata": {},
     "output_type": "display_data"
    },
    {
     "name": "stdout",
     "output_type": "stream",
     "text": [
      "Train\tLoss: 0.4072\n",
      "\tcls: 0.4256\n",
      "\tkd: 0.4723\n",
      "\tcos: 0.1483\n",
      "Eval\tLoss: 0.7797\n",
      "\tAccuracy: 0.6733\n",
      "\tF1: 0.6601\n",
      "\n",
      "-- Epoch 5/5 --\n"
     ]
    },
    {
     "data": {
      "application/vnd.jupyter.widget-view+json": {
       "model_id": "",
       "version_major": 2,
       "version_minor": 0
      },
      "text/plain": [
       "Training:   0%|          | 0/481 [00:00<?, ?it/s]"
      ]
     },
     "metadata": {},
     "output_type": "display_data"
    },
    {
     "data": {
      "application/vnd.jupyter.widget-view+json": {
       "model_id": "",
       "version_major": 2,
       "version_minor": 0
      },
      "text/plain": [
       "Evaluating:   0%|          | 0/61 [00:00<?, ?it/s]"
      ]
     },
     "metadata": {},
     "output_type": "display_data"
    },
    {
     "name": "stdout",
     "output_type": "stream",
     "text": [
      "Train\tLoss: 0.3655\n",
      "\tcls: 0.3492\n",
      "\tkd: 0.5301\n",
      "\tcos: 0.1504\n",
      "Eval\tLoss: 0.8050\n",
      "\tAccuracy: 0.6707\n",
      "\tF1: 0.6592\n",
      "Student model saved to: models/A0.70_T2_LR3e-05_NE5.pt\n",
      "\n",
      "Running config: alpha=0.70, beta=0.20, T=2, lr=1e-05, num_epochs=5\n",
      "\n",
      "-- Epoch 1/5 --\n"
     ]
    },
    {
     "data": {
      "application/vnd.jupyter.widget-view+json": {
       "model_id": "",
       "version_major": 2,
       "version_minor": 0
      },
      "text/plain": [
       "Training:   0%|          | 0/481 [00:00<?, ?it/s]"
      ]
     },
     "metadata": {},
     "output_type": "display_data"
    },
    {
     "data": {
      "application/vnd.jupyter.widget-view+json": {
       "model_id": "",
       "version_major": 2,
       "version_minor": 0
      },
      "text/plain": [
       "Evaluating:   0%|          | 0/61 [00:00<?, ?it/s]"
      ]
     },
     "metadata": {},
     "output_type": "display_data"
    },
    {
     "name": "stdout",
     "output_type": "stream",
     "text": [
      "Train\tLoss: 0.6695\n",
      "\tcls: 0.8965\n",
      "\tkd: 0.1251\n",
      "\tcos: 0.1693\n",
      "Eval\tLoss: 0.7891\n",
      "\tAccuracy: 0.6649\n",
      "\tF1: 0.6460\n",
      "\n",
      "-- Epoch 2/5 --\n"
     ]
    },
    {
     "data": {
      "application/vnd.jupyter.widget-view+json": {
       "model_id": "",
       "version_major": 2,
       "version_minor": 0
      },
      "text/plain": [
       "Training:   0%|          | 0/481 [00:00<?, ?it/s]"
      ]
     },
     "metadata": {},
     "output_type": "display_data"
    },
    {
     "data": {
      "application/vnd.jupyter.widget-view+json": {
       "model_id": "",
       "version_major": 2,
       "version_minor": 0
      },
      "text/plain": [
       "Evaluating:   0%|          | 0/61 [00:00<?, ?it/s]"
      ]
     },
     "metadata": {},
     "output_type": "display_data"
    },
    {
     "name": "stdout",
     "output_type": "stream",
     "text": [
      "Train\tLoss: 0.5883\n",
      "\tcls: 0.7512\n",
      "\tkd: 0.2347\n",
      "\tcos: 0.1548\n",
      "Eval\tLoss: 0.7717\n",
      "\tAccuracy: 0.6639\n",
      "\tF1: 0.6604\n",
      "\n",
      "-- Epoch 3/5 --\n"
     ]
    },
    {
     "data": {
      "application/vnd.jupyter.widget-view+json": {
       "model_id": "",
       "version_major": 2,
       "version_minor": 0
      },
      "text/plain": [
       "Training:   0%|          | 0/481 [00:00<?, ?it/s]"
      ]
     },
     "metadata": {},
     "output_type": "display_data"
    },
    {
     "data": {
      "application/vnd.jupyter.widget-view+json": {
       "model_id": "",
       "version_major": 2,
       "version_minor": 0
      },
      "text/plain": [
       "Evaluating:   0%|          | 0/61 [00:00<?, ?it/s]"
      ]
     },
     "metadata": {},
     "output_type": "display_data"
    },
    {
     "name": "stdout",
     "output_type": "stream",
     "text": [
      "Train\tLoss: 0.5540\n",
      "\tcls: 0.6903\n",
      "\tkd: 0.2793\n",
      "\tcos: 0.1492\n",
      "Eval\tLoss: 0.7371\n",
      "\tAccuracy: 0.6811\n",
      "\tF1: 0.6717\n",
      "\n",
      "-- Epoch 4/5 --\n"
     ]
    },
    {
     "data": {
      "application/vnd.jupyter.widget-view+json": {
       "model_id": "",
       "version_major": 2,
       "version_minor": 0
      },
      "text/plain": [
       "Training:   0%|          | 0/481 [00:00<?, ?it/s]"
      ]
     },
     "metadata": {},
     "output_type": "display_data"
    },
    {
     "data": {
      "application/vnd.jupyter.widget-view+json": {
       "model_id": "",
       "version_major": 2,
       "version_minor": 0
      },
      "text/plain": [
       "Evaluating:   0%|          | 0/61 [00:00<?, ?it/s]"
      ]
     },
     "metadata": {},
     "output_type": "display_data"
    },
    {
     "name": "stdout",
     "output_type": "stream",
     "text": [
      "Train\tLoss: 0.5221\n",
      "\tcls: 0.6321\n",
      "\tkd: 0.3235\n",
      "\tcos: 0.1499\n",
      "Eval\tLoss: 0.7430\n",
      "\tAccuracy: 0.6785\n",
      "\tF1: 0.6714\n",
      "\n",
      "-- Epoch 5/5 --\n"
     ]
    },
    {
     "data": {
      "application/vnd.jupyter.widget-view+json": {
       "model_id": "",
       "version_major": 2,
       "version_minor": 0
      },
      "text/plain": [
       "Training:   0%|          | 0/481 [00:00<?, ?it/s]"
      ]
     },
     "metadata": {},
     "output_type": "display_data"
    },
    {
     "data": {
      "application/vnd.jupyter.widget-view+json": {
       "model_id": "",
       "version_major": 2,
       "version_minor": 0
      },
      "text/plain": [
       "Evaluating:   0%|          | 0/61 [00:00<?, ?it/s]"
      ]
     },
     "metadata": {},
     "output_type": "display_data"
    },
    {
     "name": "stdout",
     "output_type": "stream",
     "text": [
      "Train\tLoss: 0.4884\n",
      "\tcls: 0.5719\n",
      "\tkd: 0.3651\n",
      "\tcos: 0.1511\n",
      "Eval\tLoss: 0.7436\n",
      "\tAccuracy: 0.6779\n",
      "\tF1: 0.6681\n",
      "Student model saved to: models/A0.70_T2_LR1e-05_NE5.pt\n"
     ]
    }
   ],
   "source": [
    "import torch.optim as optim\n",
    "from transformers import get_scheduler\n",
    "from torch.optim.lr_scheduler import ReduceLROnPlateau\n",
    "from itertools import product\n",
    "import pandas as pd\n",
    "\n",
    "configs = []\n",
    "\n",
    "for alpha_beta, T, lr, num_epochs in product(ALPHA_BETAS, TEMPERATURES, LEARNING_RATES, NUM_EPOCHS):\n",
    "    alpha, beta = alpha_beta\n",
    "    print(f\"\\nRunning config: alpha={alpha:.2f}, beta={beta:.2f}, T={T}, lr={lr}, num_epochs={num_epochs}\")\n",
    "    save_name = f\"A{alpha:.2f}_T{T}_LR{lr}_NE{num_epochs}\"\n",
    "    \n",
    "    # Create dataloaders\n",
    "    train_loader, eval_loader, test_loader = create_dataloaders(dataset_preprocessed, batch_size=BATCH_SIZE)\n",
    "    \n",
    "    # Init student model\n",
    "    student_model = build_student_model(teacher_model)\n",
    "    student_model = init_student_layers(teacher_model, student_model, use_layer=\"odd\")\n",
    "    \n",
    "    # To device\n",
    "    teacher_model = teacher_model.to(DEVICE)\n",
    "    student_model = student_model.to(DEVICE)\n",
    "\n",
    "    optimizer = optim.AdamW(student_model.parameters(), lr=lr， weight_decay=0.01)\n",
    "    # scheduler = get_scheduler(\n",
    "    #     name=\"linear\",\n",
    "    #     optimizer=optimizer,\n",
    "    #     num_warmup_steps=0,\n",
    "    #     num_training_steps=num_epochs * len(train_loader)\n",
    "    # )\n",
    "    scheduler = ReduceLROnPlateau(\n",
    "        optimizer,\n",
    "        mode=\"max\",\n",
    "        factor=0.5,\n",
    "        patience=1,\n",
    "        threshold=0.001,\n",
    "        verbose=True\n",
    "    )\n",
    "\n",
    "    kdtrainer = KDTrainer(\n",
    "        teacher_model=teacher_model,\n",
    "        student_model=student_model,\n",
    "        train_loader=train_loader,\n",
    "        eval_loader=eval_loader,\n",
    "        optimizer=optimizer,\n",
    "        scheduler=scheduler,\n",
    "        save_name=save_name\n",
    "    )\n",
    "\n",
    "    _, eval_metrics = kdtrainer.train(\n",
    "        num_epochs=num_epochs,\n",
    "        T=T,\n",
    "        alpha=alpha,\n",
    "        beta=beta\n",
    "    )\n",
    "    \n",
    "    kdtrainer.save_model()\n",
    "    \n",
    "    f1 = eval_metrics[-1][\"eval_f1\"]\n",
    "    configs.append({\n",
    "        \"alpha\": alpha,\n",
    "        \"beta\": beta,\n",
    "        \"T\": T,\n",
    "        \"lr\": lr,\n",
    "        \"num_epochs\": num_epochs,\n",
    "        \"eval_f1\": f1\n",
    "    })\n",
    "    \n",
    "    df = pd.DataFrame(configs)\n",
    "    df.to_csv(\"grid_results.csv\", index=False)\n",
    "\n"
   ]
  },
  {
   "cell_type": "code",
   "execution_count": null,
   "metadata": {},
   "outputs": [],
   "source": []
  }
 ],
 "metadata": {
  "accelerator": "GPU",
  "colab": {
   "collapsed_sections": [
    "qYyPcd9LTgrn",
    "m3Q4oScygXSL"
   ],
   "gpuType": "T4",
   "provenance": [],
   "toc_visible": true
  },
  "kernelspec": {
   "display_name": "Python (rag)",
   "language": "python",
   "name": "rag"
  },
  "language_info": {
   "codemirror_mode": {
    "name": "ipython",
    "version": 3
   },
   "file_extension": ".py",
   "mimetype": "text/x-python",
   "name": "python",
   "nbconvert_exporter": "python",
   "pygments_lexer": "ipython3",
   "version": "3.10.16"
  },
  "widgets": {
   "application/vnd.jupyter.widget-state+json": {
    "00060cf7dea24f56b875bfea028ba90f": {
     "model_module": "@jupyter-widgets/controls",
     "model_module_version": "1.5.0",
     "model_name": "DescriptionStyleModel",
     "state": {
      "_model_module": "@jupyter-widgets/controls",
      "_model_module_version": "1.5.0",
      "_model_name": "DescriptionStyleModel",
      "_view_count": null,
      "_view_module": "@jupyter-widgets/base",
      "_view_module_version": "1.2.0",
      "_view_name": "StyleView",
      "description_width": ""
     }
    },
    "07b21e4340ec48c18b2d81eb5f495361": {
     "model_module": "@jupyter-widgets/base",
     "model_module_version": "1.2.0",
     "model_name": "LayoutModel",
     "state": {
      "_model_module": "@jupyter-widgets/base",
      "_model_module_version": "1.2.0",
      "_model_name": "LayoutModel",
      "_view_count": null,
      "_view_module": "@jupyter-widgets/base",
      "_view_module_version": "1.2.0",
      "_view_name": "LayoutView",
      "align_content": null,
      "align_items": null,
      "align_self": null,
      "border": null,
      "bottom": null,
      "display": null,
      "flex": null,
      "flex_flow": null,
      "grid_area": null,
      "grid_auto_columns": null,
      "grid_auto_flow": null,
      "grid_auto_rows": null,
      "grid_column": null,
      "grid_gap": null,
      "grid_row": null,
      "grid_template_areas": null,
      "grid_template_columns": null,
      "grid_template_rows": null,
      "height": null,
      "justify_content": null,
      "justify_items": null,
      "left": null,
      "margin": null,
      "max_height": null,
      "max_width": null,
      "min_height": null,
      "min_width": null,
      "object_fit": null,
      "object_position": null,
      "order": null,
      "overflow": null,
      "overflow_x": null,
      "overflow_y": null,
      "padding": null,
      "right": null,
      "top": null,
      "visibility": null,
      "width": null
     }
    },
    "145cfbf57a2f4fbca4b2a3e6dae1fd33": {
     "model_module": "@jupyter-widgets/controls",
     "model_module_version": "1.5.0",
     "model_name": "HTMLModel",
     "state": {
      "_dom_classes": [],
      "_model_module": "@jupyter-widgets/controls",
      "_model_module_version": "1.5.0",
      "_model_name": "HTMLModel",
      "_view_count": null,
      "_view_module": "@jupyter-widgets/controls",
      "_view_module_version": "1.5.0",
      "_view_name": "HTMLView",
      "description": "",
      "description_tooltip": null,
      "layout": "IPY_MODEL_07b21e4340ec48c18b2d81eb5f495361",
      "placeholder": "​",
      "style": "IPY_MODEL_00060cf7dea24f56b875bfea028ba90f",
      "value": " 481/481 [02:32&lt;00:00,  3.41it/s]"
     }
    },
    "147523338f4c40499bfb56ccd31e63f5": {
     "model_module": "@jupyter-widgets/base",
     "model_module_version": "1.2.0",
     "model_name": "LayoutModel",
     "state": {
      "_model_module": "@jupyter-widgets/base",
      "_model_module_version": "1.2.0",
      "_model_name": "LayoutModel",
      "_view_count": null,
      "_view_module": "@jupyter-widgets/base",
      "_view_module_version": "1.2.0",
      "_view_name": "LayoutView",
      "align_content": null,
      "align_items": null,
      "align_self": null,
      "border": null,
      "bottom": null,
      "display": null,
      "flex": null,
      "flex_flow": null,
      "grid_area": null,
      "grid_auto_columns": null,
      "grid_auto_flow": null,
      "grid_auto_rows": null,
      "grid_column": null,
      "grid_gap": null,
      "grid_row": null,
      "grid_template_areas": null,
      "grid_template_columns": null,
      "grid_template_rows": null,
      "height": null,
      "justify_content": null,
      "justify_items": null,
      "left": null,
      "margin": null,
      "max_height": null,
      "max_width": null,
      "min_height": null,
      "min_width": null,
      "object_fit": null,
      "object_position": null,
      "order": null,
      "overflow": null,
      "overflow_x": null,
      "overflow_y": null,
      "padding": null,
      "right": null,
      "top": null,
      "visibility": "hidden",
      "width": null
     }
    },
    "26e62d11a7bb420c86ca31482bbcf3ca": {
     "model_module": "@jupyter-widgets/controls",
     "model_module_version": "1.5.0",
     "model_name": "ProgressStyleModel",
     "state": {
      "_model_module": "@jupyter-widgets/controls",
      "_model_module_version": "1.5.0",
      "_model_name": "ProgressStyleModel",
      "_view_count": null,
      "_view_module": "@jupyter-widgets/base",
      "_view_module_version": "1.2.0",
      "_view_name": "StyleView",
      "bar_color": null,
      "description_width": ""
     }
    },
    "3d1ad685658f49108eb108c12b16fb3f": {
     "model_module": "@jupyter-widgets/controls",
     "model_module_version": "1.5.0",
     "model_name": "ProgressStyleModel",
     "state": {
      "_model_module": "@jupyter-widgets/controls",
      "_model_module_version": "1.5.0",
      "_model_name": "ProgressStyleModel",
      "_view_count": null,
      "_view_module": "@jupyter-widgets/base",
      "_view_module_version": "1.2.0",
      "_view_name": "StyleView",
      "bar_color": null,
      "description_width": ""
     }
    },
    "3fd8127f712b475c9a351e21c9e2ab4f": {
     "model_module": "@jupyter-widgets/controls",
     "model_module_version": "1.5.0",
     "model_name": "FloatProgressModel",
     "state": {
      "_dom_classes": [],
      "_model_module": "@jupyter-widgets/controls",
      "_model_module_version": "1.5.0",
      "_model_name": "FloatProgressModel",
      "_view_count": null,
      "_view_module": "@jupyter-widgets/controls",
      "_view_module_version": "1.5.0",
      "_view_name": "ProgressView",
      "bar_style": "",
      "description": "",
      "description_tooltip": null,
      "layout": "IPY_MODEL_9a36f9142b4f4a6cb6f42d569ef64b13",
      "max": 481,
      "min": 0,
      "orientation": "horizontal",
      "style": "IPY_MODEL_3d1ad685658f49108eb108c12b16fb3f",
      "value": 481
     }
    },
    "40a5ac0a4ac6418b8c0e5bd40fcee5db": {
     "model_module": "@jupyter-widgets/controls",
     "model_module_version": "1.5.0",
     "model_name": "DescriptionStyleModel",
     "state": {
      "_model_module": "@jupyter-widgets/controls",
      "_model_module_version": "1.5.0",
      "_model_name": "DescriptionStyleModel",
      "_view_count": null,
      "_view_module": "@jupyter-widgets/base",
      "_view_module_version": "1.2.0",
      "_view_name": "StyleView",
      "description_width": ""
     }
    },
    "7063860e7c684b27bb55c46ff1a56054": {
     "model_module": "@jupyter-widgets/base",
     "model_module_version": "1.2.0",
     "model_name": "LayoutModel",
     "state": {
      "_model_module": "@jupyter-widgets/base",
      "_model_module_version": "1.2.0",
      "_model_name": "LayoutModel",
      "_view_count": null,
      "_view_module": "@jupyter-widgets/base",
      "_view_module_version": "1.2.0",
      "_view_name": "LayoutView",
      "align_content": null,
      "align_items": null,
      "align_self": null,
      "border": null,
      "bottom": null,
      "display": null,
      "flex": null,
      "flex_flow": null,
      "grid_area": null,
      "grid_auto_columns": null,
      "grid_auto_flow": null,
      "grid_auto_rows": null,
      "grid_column": null,
      "grid_gap": null,
      "grid_row": null,
      "grid_template_areas": null,
      "grid_template_columns": null,
      "grid_template_rows": null,
      "height": null,
      "justify_content": null,
      "justify_items": null,
      "left": null,
      "margin": null,
      "max_height": null,
      "max_width": null,
      "min_height": null,
      "min_width": null,
      "object_fit": null,
      "object_position": null,
      "order": null,
      "overflow": null,
      "overflow_x": null,
      "overflow_y": null,
      "padding": null,
      "right": null,
      "top": null,
      "visibility": "hidden",
      "width": null
     }
    },
    "72930a5ca24f443ba41f1df0135e0452": {
     "model_module": "@jupyter-widgets/base",
     "model_module_version": "1.2.0",
     "model_name": "LayoutModel",
     "state": {
      "_model_module": "@jupyter-widgets/base",
      "_model_module_version": "1.2.0",
      "_model_name": "LayoutModel",
      "_view_count": null,
      "_view_module": "@jupyter-widgets/base",
      "_view_module_version": "1.2.0",
      "_view_name": "LayoutView",
      "align_content": null,
      "align_items": null,
      "align_self": null,
      "border": null,
      "bottom": null,
      "display": null,
      "flex": null,
      "flex_flow": null,
      "grid_area": null,
      "grid_auto_columns": null,
      "grid_auto_flow": null,
      "grid_auto_rows": null,
      "grid_column": null,
      "grid_gap": null,
      "grid_row": null,
      "grid_template_areas": null,
      "grid_template_columns": null,
      "grid_template_rows": null,
      "height": null,
      "justify_content": null,
      "justify_items": null,
      "left": null,
      "margin": null,
      "max_height": null,
      "max_width": null,
      "min_height": null,
      "min_width": null,
      "object_fit": null,
      "object_position": null,
      "order": null,
      "overflow": null,
      "overflow_x": null,
      "overflow_y": null,
      "padding": null,
      "right": null,
      "top": null,
      "visibility": null,
      "width": null
     }
    },
    "8840f3af4c2e40b29f8d7d89aa15cffc": {
     "model_module": "@jupyter-widgets/base",
     "model_module_version": "1.2.0",
     "model_name": "LayoutModel",
     "state": {
      "_model_module": "@jupyter-widgets/base",
      "_model_module_version": "1.2.0",
      "_model_name": "LayoutModel",
      "_view_count": null,
      "_view_module": "@jupyter-widgets/base",
      "_view_module_version": "1.2.0",
      "_view_name": "LayoutView",
      "align_content": null,
      "align_items": null,
      "align_self": null,
      "border": null,
      "bottom": null,
      "display": null,
      "flex": null,
      "flex_flow": null,
      "grid_area": null,
      "grid_auto_columns": null,
      "grid_auto_flow": null,
      "grid_auto_rows": null,
      "grid_column": null,
      "grid_gap": null,
      "grid_row": null,
      "grid_template_areas": null,
      "grid_template_columns": null,
      "grid_template_rows": null,
      "height": null,
      "justify_content": null,
      "justify_items": null,
      "left": null,
      "margin": null,
      "max_height": null,
      "max_width": null,
      "min_height": null,
      "min_width": null,
      "object_fit": null,
      "object_position": null,
      "order": null,
      "overflow": null,
      "overflow_x": null,
      "overflow_y": null,
      "padding": null,
      "right": null,
      "top": null,
      "visibility": null,
      "width": null
     }
    },
    "8a490deaaaba4eada516ffd5ba1e6f92": {
     "model_module": "@jupyter-widgets/controls",
     "model_module_version": "1.5.0",
     "model_name": "FloatProgressModel",
     "state": {
      "_dom_classes": [],
      "_model_module": "@jupyter-widgets/controls",
      "_model_module_version": "1.5.0",
      "_model_name": "FloatProgressModel",
      "_view_count": null,
      "_view_module": "@jupyter-widgets/controls",
      "_view_module_version": "1.5.0",
      "_view_name": "ProgressView",
      "bar_style": "",
      "description": "",
      "description_tooltip": null,
      "layout": "IPY_MODEL_8840f3af4c2e40b29f8d7d89aa15cffc",
      "max": 61,
      "min": 0,
      "orientation": "horizontal",
      "style": "IPY_MODEL_26e62d11a7bb420c86ca31482bbcf3ca",
      "value": 61
     }
    },
    "8a85991934fc4e3daf64a1fd63274863": {
     "model_module": "@jupyter-widgets/controls",
     "model_module_version": "1.5.0",
     "model_name": "HBoxModel",
     "state": {
      "_dom_classes": [],
      "_model_module": "@jupyter-widgets/controls",
      "_model_module_version": "1.5.0",
      "_model_name": "HBoxModel",
      "_view_count": null,
      "_view_module": "@jupyter-widgets/controls",
      "_view_module_version": "1.5.0",
      "_view_name": "HBoxView",
      "box_style": "",
      "children": [
       "IPY_MODEL_eb1018d808b24f49a2f30caa847f5cba",
       "IPY_MODEL_3fd8127f712b475c9a351e21c9e2ab4f",
       "IPY_MODEL_145cfbf57a2f4fbca4b2a3e6dae1fd33"
      ],
      "layout": "IPY_MODEL_7063860e7c684b27bb55c46ff1a56054"
     }
    },
    "9a36f9142b4f4a6cb6f42d569ef64b13": {
     "model_module": "@jupyter-widgets/base",
     "model_module_version": "1.2.0",
     "model_name": "LayoutModel",
     "state": {
      "_model_module": "@jupyter-widgets/base",
      "_model_module_version": "1.2.0",
      "_model_name": "LayoutModel",
      "_view_count": null,
      "_view_module": "@jupyter-widgets/base",
      "_view_module_version": "1.2.0",
      "_view_name": "LayoutView",
      "align_content": null,
      "align_items": null,
      "align_self": null,
      "border": null,
      "bottom": null,
      "display": null,
      "flex": null,
      "flex_flow": null,
      "grid_area": null,
      "grid_auto_columns": null,
      "grid_auto_flow": null,
      "grid_auto_rows": null,
      "grid_column": null,
      "grid_gap": null,
      "grid_row": null,
      "grid_template_areas": null,
      "grid_template_columns": null,
      "grid_template_rows": null,
      "height": null,
      "justify_content": null,
      "justify_items": null,
      "left": null,
      "margin": null,
      "max_height": null,
      "max_width": null,
      "min_height": null,
      "min_width": null,
      "object_fit": null,
      "object_position": null,
      "order": null,
      "overflow": null,
      "overflow_x": null,
      "overflow_y": null,
      "padding": null,
      "right": null,
      "top": null,
      "visibility": null,
      "width": null
     }
    },
    "9af83f0a48344c84bfa756287c1135a4": {
     "model_module": "@jupyter-widgets/controls",
     "model_module_version": "1.5.0",
     "model_name": "HTMLModel",
     "state": {
      "_dom_classes": [],
      "_model_module": "@jupyter-widgets/controls",
      "_model_module_version": "1.5.0",
      "_model_name": "HTMLModel",
      "_view_count": null,
      "_view_module": "@jupyter-widgets/controls",
      "_view_module_version": "1.5.0",
      "_view_name": "HTMLView",
      "description": "",
      "description_tooltip": null,
      "layout": "IPY_MODEL_fb1205383e0c4d4881faef0431777266",
      "placeholder": "​",
      "style": "IPY_MODEL_40a5ac0a4ac6418b8c0e5bd40fcee5db",
      "value": " 60/61 [00:03&lt;00:00, 15.70it/s]"
     }
    },
    "9d0a76945caf48968d28c1219d32d6e7": {
     "model_module": "@jupyter-widgets/controls",
     "model_module_version": "1.5.0",
     "model_name": "DescriptionStyleModel",
     "state": {
      "_model_module": "@jupyter-widgets/controls",
      "_model_module_version": "1.5.0",
      "_model_name": "DescriptionStyleModel",
      "_view_count": null,
      "_view_module": "@jupyter-widgets/base",
      "_view_module_version": "1.2.0",
      "_view_name": "StyleView",
      "description_width": ""
     }
    },
    "9fea38a3101f41b28063500cee8b18f8": {
     "model_module": "@jupyter-widgets/controls",
     "model_module_version": "1.5.0",
     "model_name": "DescriptionStyleModel",
     "state": {
      "_model_module": "@jupyter-widgets/controls",
      "_model_module_version": "1.5.0",
      "_model_name": "DescriptionStyleModel",
      "_view_count": null,
      "_view_module": "@jupyter-widgets/base",
      "_view_module_version": "1.2.0",
      "_view_name": "StyleView",
      "description_width": ""
     }
    },
    "be0c5dcfed7d4baf8013bb55b26f486d": {
     "model_module": "@jupyter-widgets/base",
     "model_module_version": "1.2.0",
     "model_name": "LayoutModel",
     "state": {
      "_model_module": "@jupyter-widgets/base",
      "_model_module_version": "1.2.0",
      "_model_name": "LayoutModel",
      "_view_count": null,
      "_view_module": "@jupyter-widgets/base",
      "_view_module_version": "1.2.0",
      "_view_name": "LayoutView",
      "align_content": null,
      "align_items": null,
      "align_self": null,
      "border": null,
      "bottom": null,
      "display": null,
      "flex": null,
      "flex_flow": null,
      "grid_area": null,
      "grid_auto_columns": null,
      "grid_auto_flow": null,
      "grid_auto_rows": null,
      "grid_column": null,
      "grid_gap": null,
      "grid_row": null,
      "grid_template_areas": null,
      "grid_template_columns": null,
      "grid_template_rows": null,
      "height": null,
      "justify_content": null,
      "justify_items": null,
      "left": null,
      "margin": null,
      "max_height": null,
      "max_width": null,
      "min_height": null,
      "min_width": null,
      "object_fit": null,
      "object_position": null,
      "order": null,
      "overflow": null,
      "overflow_x": null,
      "overflow_y": null,
      "padding": null,
      "right": null,
      "top": null,
      "visibility": null,
      "width": null
     }
    },
    "c7e28425d0514a37b272e0a32285217f": {
     "model_module": "@jupyter-widgets/controls",
     "model_module_version": "1.5.0",
     "model_name": "HBoxModel",
     "state": {
      "_dom_classes": [],
      "_model_module": "@jupyter-widgets/controls",
      "_model_module_version": "1.5.0",
      "_model_name": "HBoxModel",
      "_view_count": null,
      "_view_module": "@jupyter-widgets/controls",
      "_view_module_version": "1.5.0",
      "_view_name": "HBoxView",
      "box_style": "",
      "children": [
       "IPY_MODEL_d9ad57fa7b294301ae35dac1821ea6b8",
       "IPY_MODEL_8a490deaaaba4eada516ffd5ba1e6f92",
       "IPY_MODEL_9af83f0a48344c84bfa756287c1135a4"
      ],
      "layout": "IPY_MODEL_147523338f4c40499bfb56ccd31e63f5"
     }
    },
    "d9ad57fa7b294301ae35dac1821ea6b8": {
     "model_module": "@jupyter-widgets/controls",
     "model_module_version": "1.5.0",
     "model_name": "HTMLModel",
     "state": {
      "_dom_classes": [],
      "_model_module": "@jupyter-widgets/controls",
      "_model_module_version": "1.5.0",
      "_model_name": "HTMLModel",
      "_view_count": null,
      "_view_module": "@jupyter-widgets/controls",
      "_view_module_version": "1.5.0",
      "_view_name": "HTMLView",
      "description": "",
      "description_tooltip": null,
      "layout": "IPY_MODEL_be0c5dcfed7d4baf8013bb55b26f486d",
      "placeholder": "​",
      "style": "IPY_MODEL_9d0a76945caf48968d28c1219d32d6e7",
      "value": "Evaluating:  98%"
     }
    },
    "eb1018d808b24f49a2f30caa847f5cba": {
     "model_module": "@jupyter-widgets/controls",
     "model_module_version": "1.5.0",
     "model_name": "HTMLModel",
     "state": {
      "_dom_classes": [],
      "_model_module": "@jupyter-widgets/controls",
      "_model_module_version": "1.5.0",
      "_model_name": "HTMLModel",
      "_view_count": null,
      "_view_module": "@jupyter-widgets/controls",
      "_view_module_version": "1.5.0",
      "_view_name": "HTMLView",
      "description": "",
      "description_tooltip": null,
      "layout": "IPY_MODEL_72930a5ca24f443ba41f1df0135e0452",
      "placeholder": "​",
      "style": "IPY_MODEL_9fea38a3101f41b28063500cee8b18f8",
      "value": "Training: 100%"
     }
    },
    "fb1205383e0c4d4881faef0431777266": {
     "model_module": "@jupyter-widgets/base",
     "model_module_version": "1.2.0",
     "model_name": "LayoutModel",
     "state": {
      "_model_module": "@jupyter-widgets/base",
      "_model_module_version": "1.2.0",
      "_model_name": "LayoutModel",
      "_view_count": null,
      "_view_module": "@jupyter-widgets/base",
      "_view_module_version": "1.2.0",
      "_view_name": "LayoutView",
      "align_content": null,
      "align_items": null,
      "align_self": null,
      "border": null,
      "bottom": null,
      "display": null,
      "flex": null,
      "flex_flow": null,
      "grid_area": null,
      "grid_auto_columns": null,
      "grid_auto_flow": null,
      "grid_auto_rows": null,
      "grid_column": null,
      "grid_gap": null,
      "grid_row": null,
      "grid_template_areas": null,
      "grid_template_columns": null,
      "grid_template_rows": null,
      "height": null,
      "justify_content": null,
      "justify_items": null,
      "left": null,
      "margin": null,
      "max_height": null,
      "max_width": null,
      "min_height": null,
      "min_width": null,
      "object_fit": null,
      "object_position": null,
      "order": null,
      "overflow": null,
      "overflow_x": null,
      "overflow_y": null,
      "padding": null,
      "right": null,
      "top": null,
      "visibility": null,
      "width": null
     }
    }
   }
  }
 },
 "nbformat": 4,
 "nbformat_minor": 4
}
